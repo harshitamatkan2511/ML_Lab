{
 "cells": [
  {
   "cell_type": "code",
   "execution_count": 5,
   "id": "dc172864",
   "metadata": {},
   "outputs": [
    {
     "name": "stdout",
     "output_type": "stream",
     "text": [
      "Enter the number of rows :3\n",
      "Enter the number of columns :3\n",
      "Enter elements\n",
      "1\n",
      "2\n",
      "3\n",
      "4\n",
      "5\n",
      "65\n",
      "6\n",
      "7\n",
      "4\n",
      "Matrix is :\n",
      "1 2 3 \n",
      "4 5 65 \n",
      "6 7 4 \n"
     ]
    }
   ],
   "source": [
    "#matrix from user input\n",
    "l =[]\n",
    "n = int(input(\"Enter the number of rows :\"))\n",
    "m = int(input(\"Enter the number of columns :\"))\n",
    "print(\"Enter elements\")\n",
    "for i in range(n):\n",
    "    a =[]\n",
    "    for j in range(0,m):\n",
    "        a.append(int(input()))\n",
    "    l.append(a)\n",
    "        \n",
    "print(\"Matrix is :\")\n",
    "for i in range(n):\n",
    "    for j in range(m):\n",
    "        print(l[i][j], end = \" \")\n",
    "    print()\n"
   ]
  },
  {
   "cell_type": "code",
   "execution_count": 8,
   "id": "493ea221",
   "metadata": {},
   "outputs": [
    {
     "name": "stdout",
     "output_type": "stream",
     "text": [
      "Enter matrix A :\n",
      "Enter elements\n",
      "Enter matrix B :\n",
      "Enter elements\n",
      "Resultant matrix:\n",
      "[9, 12]\n",
      "[21, 28]\n"
     ]
    }
   ],
   "source": [
    "import numpy as np\n",
    "#matrix multiplication\n",
    "#matrix 1 entry\n",
    "m1=[]\n",
    "print(\"Enter matrix A :\")\n",
    "n = int(input(\"Enter the number of rows :\"))\n",
    "m = int(input(\"Enter the number of columns :\"))\n",
    "print(\"Enter elements\")\n",
    "for i in range(n):\n",
    "    a =[]\n",
    "    for j in range(0,m):\n",
    "        a.append(int(input()))\n",
    "    m1.append(a)\n",
    "    \n",
    "#matrix 2 entry\n",
    "print(\"Enter matrix B :\")\n",
    "m2=[]\n",
    "p = int(input(\"Enter the number of rows :\"))\n",
    "q = int(input(\"Enter the number of columns :\"))\n",
    "print(\"Enter elements\")\n",
    "for i in range(n):\n",
    "    b =[]\n",
    "    for j in range(0,m):\n",
    "        a.append(int(input()))\n",
    "    m2.append(a)\n",
    "\n",
    "result = [[0 for j in range(q)] for i in range(n)]\n",
    "        \n",
    "   # Perform matrix multiplication\n",
    "for i in range(n):\n",
    "    for j in range(q):\n",
    "        for k in range(p):\n",
    "            result[i][j] += m1[i][k] * m2[k][j]\n",
    "\n",
    "    # Print the result matrix\n",
    "print(\"Resultant matrix:\")\n",
    "for row in result:\n",
    "    print(row)"
   ]
  },
  {
   "cell_type": "code",
   "execution_count": 7,
   "id": "9d30139c",
   "metadata": {},
   "outputs": [
    {
     "name": "stdout",
     "output_type": "stream",
     "text": [
      "Enter matrix A :\n",
      "Enter elements\n",
      "Original matrix:\n",
      "[1, 2]\n",
      "[3, 4]\n",
      "Transposed matrix:\n",
      "[1, 3]\n",
      "[2, 4]\n"
     ]
    }
   ],
   "source": [
    "#transpose of the matrix \n",
    "m1=[]\n",
    "print(\"Enter matrix A :\")\n",
    "n = int(input(\"Enter the number of rows :\"))\n",
    "m = int(input(\"Enter the number of columns :\"))\n",
    "print(\"Enter elements\")\n",
    "for i in range(n):\n",
    "    a =[]\n",
    "    for j in range(0,m):\n",
    "        a.append(int(input()))\n",
    "    m1.append(a)\n",
    "\n",
    "\n",
    "transpose = [[m1[j][i] for j in range(n)] for i in range(m)]\n",
    "\n",
    "# Print the original matrix and the transposed matrix\n",
    "print(\"Original matrix:\")\n",
    "for row in m1:\n",
    "    print(row)\n",
    "print(\"Transposed matrix:\")\n",
    "for row in transpose:\n",
    "    print(row)"
   ]
  },
  {
   "cell_type": "code",
   "execution_count": 2,
   "id": "5dcd8b22",
   "metadata": {},
   "outputs": [
    {
     "name": "stdout",
     "output_type": "stream",
     "text": [
      "Enter the size of the square matrix: 3\n",
      "Enter element (1, 1): 1\n",
      "Enter element (1, 2): 2\n",
      "Enter element (1, 3): 3\n",
      "Enter element (2, 1): 4\n",
      "Enter element (2, 2): 5\n",
      "Enter element (2, 3): 6\n",
      "Enter element (3, 1): 7\n",
      "Enter element (3, 2): 8\n",
      "Enter element (3, 3): 9\n",
      "The inverse matrix is:\n",
      "[[ 3.15251974e+15 -6.30503948e+15  3.15251974e+15]\n",
      " [-6.30503948e+15  1.26100790e+16 -6.30503948e+15]\n",
      " [ 3.15251974e+15 -6.30503948e+15  3.15251974e+15]]\n"
     ]
    }
   ],
   "source": [
    "import numpy as np\n",
    "\n",
    "def cofactor(matrix, i, j):\n",
    "    # Calculate the cofactor of the element at (i,j)\n",
    "    sign = (-1) ** (i + j)\n",
    "    minor = np.delete(np.delete(matrix, i, axis=0), j, axis=1)\n",
    "    return sign * np.linalg.det(minor)\n",
    "\n",
    "def inverse(matrix):\n",
    "    # Calculate the determinant of the input matrix\n",
    "    det = np.linalg.det(matrix)\n",
    "    if det == 0:\n",
    "        raise ValueError(\"Input matrix is singular and has no inverse.\")\n",
    "    \n",
    "    # Calculate the adjugate matrix\n",
    "    n = matrix.shape[0]\n",
    "    adjugate = np.zeros((n, n))\n",
    "    for i in range(n):\n",
    "        for j in range(n):\n",
    "            adjugate[j, i] = cofactor(matrix, i, j)\n",
    "    \n",
    "    # Calculate the inverse matrix\n",
    "    inverse = adjugate / det\n",
    "    return inverse\n",
    "\n",
    "# Get user input for the matrix\n",
    "n = int(input(\"Enter the size of the square matrix: \"))\n",
    "matrix = np.zeros((n, n))\n",
    "for i in range(n):\n",
    "    for j in range(n):\n",
    "        matrix[i, j] = float(input(f\"Enter element ({i+1}, {j+1}): \"))\n",
    "\n",
    "# Calculate and print the inverse matrix\n",
    "try:\n",
    "    inv_matrix = inverse(matrix)\n",
    "    print(\"The inverse matrix is:\")\n",
    "    print(inv_matrix)\n",
    "except ValueError as e:\n",
    "    print(e)\n"
   ]
  },
  {
   "cell_type": "code",
   "execution_count": 11,
   "id": "6e2e403c",
   "metadata": {},
   "outputs": [
    {
     "name": "stdout",
     "output_type": "stream",
     "text": [
      "Solution for x: 2.333333333333333\n",
      "Solution for y: 2.666666666666668\n",
      "Solution for z: 1.0\n"
     ]
    }
   ],
   "source": [
    "#cramers rule\n",
    "\n",
    "import numpy as np\n",
    "\n",
    "def cramers_rule(coefficients, constants):\n",
    "    n = len(coefficients)\n",
    "    detA = np.linalg.det(coefficients)\n",
    "    solutions = []\n",
    "    for i in range(n):\n",
    "        A_i = np.copy(coefficients)\n",
    "        A_i[:, i] = constants\n",
    "        detA_i = np.linalg.det(A_i)\n",
    "        if detA != 0:\n",
    "            x_i = detA_i / detA\n",
    "            solutions.append(x_i)\n",
    "        else:\n",
    "            return None  # Cramer's rule does not apply if detA = 0\n",
    "    return solutions\n",
    "\n",
    "coefficients = np.array([[1, 1, 1], [2, -1, 1], [-1, 2, -1]])\n",
    "constants = np.array([6, 3, 2])\n",
    "\n",
    "solutions = cramers_rule(coefficients, constants)\n",
    "\n",
    "if solutions is not None:\n",
    "    print(\"Solution for x:\", solutions[0])\n",
    "    print(\"Solution for y:\", solutions[1])\n",
    "    print(\"Solution for z:\", solutions[2])\n",
    "else:\n",
    "    print(\"Cramer's rule does not apply to this system of equations.\")\n"
   ]
  },
  {
   "cell_type": "code",
   "execution_count": null,
   "id": "f603d5c7",
   "metadata": {},
   "outputs": [],
   "source": []
  }
 ],
 "metadata": {
  "kernelspec": {
   "display_name": "Python 3 (ipykernel)",
   "language": "python",
   "name": "python3"
  },
  "language_info": {
   "codemirror_mode": {
    "name": "ipython",
    "version": 3
   },
   "file_extension": ".py",
   "mimetype": "text/x-python",
   "name": "python",
   "nbconvert_exporter": "python",
   "pygments_lexer": "ipython3",
   "version": "3.9.13"
  },
  "vscode": {
   "interpreter": {
    "hash": "92b547b4b428ff414d5b5e32ee9a1d8548487961985f6c3c19cc6615429bd3bd"
   }
  }
 },
 "nbformat": 4,
 "nbformat_minor": 5
}
