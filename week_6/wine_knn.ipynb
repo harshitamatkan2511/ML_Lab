{
 "cells": [
  {
   "cell_type": "code",
   "execution_count": 131,
   "id": "d75415db",
   "metadata": {},
   "outputs": [],
   "source": [
    "import pandas as pd\n",
    "import numpy as np\n",
    "import matplotlib.pyplot as plt\n",
    "import seaborn as sns\n"
   ]
  },
  {
   "cell_type": "code",
   "execution_count": 132,
   "id": "cb44a20a",
   "metadata": {},
   "outputs": [
    {
     "data": {
      "text/html": [
       "<div>\n",
       "<style scoped>\n",
       "    .dataframe tbody tr th:only-of-type {\n",
       "        vertical-align: middle;\n",
       "    }\n",
       "\n",
       "    .dataframe tbody tr th {\n",
       "        vertical-align: top;\n",
       "    }\n",
       "\n",
       "    .dataframe thead th {\n",
       "        text-align: right;\n",
       "    }\n",
       "</style>\n",
       "<table border=\"1\" class=\"dataframe\">\n",
       "  <thead>\n",
       "    <tr style=\"text-align: right;\">\n",
       "      <th></th>\n",
       "      <th>Wine</th>\n",
       "      <th>Alcohol</th>\n",
       "      <th>Malic.acid</th>\n",
       "      <th>Ash</th>\n",
       "      <th>Acl</th>\n",
       "      <th>Mg</th>\n",
       "      <th>Phenols</th>\n",
       "      <th>Flavanoids</th>\n",
       "      <th>Nonflavanoid.phenols</th>\n",
       "      <th>Proanth</th>\n",
       "      <th>Color.int</th>\n",
       "      <th>Hue</th>\n",
       "      <th>OD</th>\n",
       "      <th>Proline</th>\n",
       "    </tr>\n",
       "  </thead>\n",
       "  <tbody>\n",
       "    <tr>\n",
       "      <th>0</th>\n",
       "      <td>1</td>\n",
       "      <td>14.23</td>\n",
       "      <td>1.71</td>\n",
       "      <td>2.43</td>\n",
       "      <td>15.6</td>\n",
       "      <td>127</td>\n",
       "      <td>2.80</td>\n",
       "      <td>3.06</td>\n",
       "      <td>0.28</td>\n",
       "      <td>2.29</td>\n",
       "      <td>5.64</td>\n",
       "      <td>1.04</td>\n",
       "      <td>3.92</td>\n",
       "      <td>1065</td>\n",
       "    </tr>\n",
       "    <tr>\n",
       "      <th>1</th>\n",
       "      <td>1</td>\n",
       "      <td>13.20</td>\n",
       "      <td>1.78</td>\n",
       "      <td>2.14</td>\n",
       "      <td>11.2</td>\n",
       "      <td>100</td>\n",
       "      <td>2.65</td>\n",
       "      <td>2.76</td>\n",
       "      <td>0.26</td>\n",
       "      <td>1.28</td>\n",
       "      <td>4.38</td>\n",
       "      <td>1.05</td>\n",
       "      <td>3.40</td>\n",
       "      <td>1050</td>\n",
       "    </tr>\n",
       "    <tr>\n",
       "      <th>2</th>\n",
       "      <td>1</td>\n",
       "      <td>13.16</td>\n",
       "      <td>2.36</td>\n",
       "      <td>2.67</td>\n",
       "      <td>18.6</td>\n",
       "      <td>101</td>\n",
       "      <td>2.80</td>\n",
       "      <td>3.24</td>\n",
       "      <td>0.30</td>\n",
       "      <td>2.81</td>\n",
       "      <td>5.68</td>\n",
       "      <td>1.03</td>\n",
       "      <td>3.17</td>\n",
       "      <td>1185</td>\n",
       "    </tr>\n",
       "    <tr>\n",
       "      <th>3</th>\n",
       "      <td>1</td>\n",
       "      <td>14.37</td>\n",
       "      <td>1.95</td>\n",
       "      <td>2.50</td>\n",
       "      <td>16.8</td>\n",
       "      <td>113</td>\n",
       "      <td>3.85</td>\n",
       "      <td>3.49</td>\n",
       "      <td>0.24</td>\n",
       "      <td>2.18</td>\n",
       "      <td>7.80</td>\n",
       "      <td>0.86</td>\n",
       "      <td>3.45</td>\n",
       "      <td>1480</td>\n",
       "    </tr>\n",
       "    <tr>\n",
       "      <th>4</th>\n",
       "      <td>1</td>\n",
       "      <td>13.24</td>\n",
       "      <td>2.59</td>\n",
       "      <td>2.87</td>\n",
       "      <td>21.0</td>\n",
       "      <td>118</td>\n",
       "      <td>2.80</td>\n",
       "      <td>2.69</td>\n",
       "      <td>0.39</td>\n",
       "      <td>1.82</td>\n",
       "      <td>4.32</td>\n",
       "      <td>1.04</td>\n",
       "      <td>2.93</td>\n",
       "      <td>735</td>\n",
       "    </tr>\n",
       "  </tbody>\n",
       "</table>\n",
       "</div>"
      ],
      "text/plain": [
       "   Wine  Alcohol  Malic.acid   Ash   Acl   Mg  Phenols  Flavanoids  \\\n",
       "0     1    14.23        1.71  2.43  15.6  127     2.80        3.06   \n",
       "1     1    13.20        1.78  2.14  11.2  100     2.65        2.76   \n",
       "2     1    13.16        2.36  2.67  18.6  101     2.80        3.24   \n",
       "3     1    14.37        1.95  2.50  16.8  113     3.85        3.49   \n",
       "4     1    13.24        2.59  2.87  21.0  118     2.80        2.69   \n",
       "\n",
       "   Nonflavanoid.phenols  Proanth  Color.int   Hue    OD  Proline  \n",
       "0                  0.28     2.29       5.64  1.04  3.92     1065  \n",
       "1                  0.26     1.28       4.38  1.05  3.40     1050  \n",
       "2                  0.30     2.81       5.68  1.03  3.17     1185  \n",
       "3                  0.24     2.18       7.80  0.86  3.45     1480  \n",
       "4                  0.39     1.82       4.32  1.04  2.93      735  "
      ]
     },
     "execution_count": 132,
     "metadata": {},
     "output_type": "execute_result"
    }
   ],
   "source": [
    "df = pd.read_csv('wine.csv')\n",
    "df.head()"
   ]
  },
  {
   "cell_type": "code",
   "execution_count": 133,
   "id": "5b41a9d6",
   "metadata": {},
   "outputs": [
    {
     "name": "stdout",
     "output_type": "stream",
     "text": [
      "<class 'pandas.core.frame.DataFrame'>\n",
      "RangeIndex: 178 entries, 0 to 177\n",
      "Data columns (total 14 columns):\n",
      " #   Column                Non-Null Count  Dtype  \n",
      "---  ------                --------------  -----  \n",
      " 0   Wine                  178 non-null    int64  \n",
      " 1   Alcohol               178 non-null    float64\n",
      " 2   Malic.acid            178 non-null    float64\n",
      " 3   Ash                   178 non-null    float64\n",
      " 4   Acl                   178 non-null    float64\n",
      " 5   Mg                    178 non-null    int64  \n",
      " 6   Phenols               178 non-null    float64\n",
      " 7   Flavanoids            178 non-null    float64\n",
      " 8   Nonflavanoid.phenols  178 non-null    float64\n",
      " 9   Proanth               178 non-null    float64\n",
      " 10  Color.int             178 non-null    float64\n",
      " 11  Hue                   178 non-null    float64\n",
      " 12  OD                    178 non-null    float64\n",
      " 13  Proline               178 non-null    int64  \n",
      "dtypes: float64(11), int64(3)\n",
      "memory usage: 19.6 KB\n"
     ]
    }
   ],
   "source": [
    "#metadata of the dataset \n",
    "df.info()"
   ]
  },
  {
   "cell_type": "code",
   "execution_count": 134,
   "id": "ce368c5e",
   "metadata": {},
   "outputs": [],
   "source": [
    "#seperating the features and the target variable\n",
    "x = df.drop(['Wine'],axis = 1)\n",
    "y = df['Wine']"
   ]
  },
  {
   "cell_type": "code",
   "execution_count": 135,
   "id": "4545dcad",
   "metadata": {},
   "outputs": [],
   "source": [
    "#splitting the test and train data \n",
    "from sklearn.model_selection import train_test_split\n",
    "xtrain,xtest,ytrain,ytest = train_test_split(x,y,train_size = 0.8,random_state = 0)\n"
   ]
  },
  {
   "cell_type": "code",
   "execution_count": 136,
   "id": "ed09285d",
   "metadata": {},
   "outputs": [
    {
     "data": {
      "text/plain": [
       "KNeighborsClassifier(n_neighbors=3)"
      ]
     },
     "execution_count": 136,
     "metadata": {},
     "output_type": "execute_result"
    }
   ],
   "source": [
    "#performing knn classification for k = 3 , euclidian\n",
    "from sklearn.neighbors import KNeighborsClassifier\n",
    "model = KNeighborsClassifier(n_neighbors = 3)\n",
    "model.fit(xtrain,ytrain)"
   ]
  },
  {
   "cell_type": "code",
   "execution_count": 137,
   "id": "dbb50c36",
   "metadata": {},
   "outputs": [
    {
     "name": "stderr",
     "output_type": "stream",
     "text": [
      "C:\\ProgramData\\Anaconda3\\lib\\site-packages\\sklearn\\neighbors\\_classification.py:228: FutureWarning: Unlike other reduction functions (e.g. `skew`, `kurtosis`), the default behavior of `mode` typically preserves the axis it acts along. In SciPy 1.11.0, this behavior will change: the default value of `keepdims` will become False, the `axis` over which the statistic is taken will be eliminated, and the value None will no longer be accepted. Set `keepdims` to True or False to avoid this warning.\n",
      "  mode, _ = stats.mode(_y[neigh_ind, k], axis=1)\n"
     ]
    }
   ],
   "source": [
    "y_pred = model.predict(xtest)"
   ]
  },
  {
   "cell_type": "code",
   "execution_count": 138,
   "id": "7d914200",
   "metadata": {},
   "outputs": [
    {
     "data": {
      "text/plain": [
       "array([1, 2, 2, 1, 2, 2, 1, 2, 2, 2, 1, 2, 1, 3, 3, 2, 1, 1, 2, 1, 2, 1,\n",
       "       3, 2, 1, 2, 2, 2, 3, 3, 1, 1, 2, 1, 1, 1], dtype=int64)"
      ]
     },
     "execution_count": 138,
     "metadata": {},
     "output_type": "execute_result"
    }
   ],
   "source": [
    "y_pred"
   ]
  },
  {
   "cell_type": "code",
   "execution_count": 139,
   "id": "960d5756",
   "metadata": {},
   "outputs": [
    {
     "data": {
      "text/plain": [
       "54     1\n",
       "151    3\n",
       "63     2\n",
       "55     1\n",
       "123    2\n",
       "121    2\n",
       "7      1\n",
       "160    3\n",
       "106    2\n",
       "90     2\n",
       "141    3\n",
       "146    3\n",
       "5      1\n",
       "98     2\n",
       "168    3\n",
       "80     2\n",
       "33     1\n",
       "18     1\n",
       "61     2\n",
       "51     1\n",
       "66     2\n",
       "37     1\n",
       "4      1\n",
       "104    2\n",
       "60     2\n",
       "111    2\n",
       "126    2\n",
       "86     2\n",
       "112    2\n",
       "164    3\n",
       "26     1\n",
       "56     1\n",
       "129    2\n",
       "45     1\n",
       "8      1\n",
       "44     1\n",
       "Name: Wine, dtype: int64"
      ]
     },
     "execution_count": 139,
     "metadata": {},
     "output_type": "execute_result"
    }
   ],
   "source": [
    "ytest"
   ]
  },
  {
   "cell_type": "code",
   "execution_count": 140,
   "id": "ac63fa94",
   "metadata": {},
   "outputs": [
    {
     "name": "stdout",
     "output_type": "stream",
     "text": [
      "[[13  0  1]\n",
      " [ 1 13  2]\n",
      " [ 1  3  2]]\n",
      "0.7777777777777778\n"
     ]
    }
   ],
   "source": [
    "#performace analysis for k = 3 , euclidian\n",
    "from sklearn.metrics import confusion_matrix,accuracy_score,recall_score,precision_score,f1_score\n",
    "print(confusion_matrix(ytest,y_pred))\n",
    "print(accuracy_score(ytest,y_pred))\n",
    "ack3e = accuracy_score(ytest,y_pred)"
   ]
  },
  {
   "cell_type": "code",
   "execution_count": 141,
   "id": "889ac706",
   "metadata": {},
   "outputs": [
    {
     "data": {
      "text/plain": [
       "KNeighborsClassifier(metric='manhattan', n_neighbors=3)"
      ]
     },
     "execution_count": 141,
     "metadata": {},
     "output_type": "execute_result"
    }
   ],
   "source": [
    "#performing knn for k =3,manhattan\n",
    "model = KNeighborsClassifier(n_neighbors = 3,metric = 'manhattan')\n",
    "model.fit(xtrain,ytrain)"
   ]
  },
  {
   "cell_type": "code",
   "execution_count": 142,
   "id": "eadf7446",
   "metadata": {},
   "outputs": [
    {
     "name": "stderr",
     "output_type": "stream",
     "text": [
      "C:\\ProgramData\\Anaconda3\\lib\\site-packages\\sklearn\\neighbors\\_classification.py:228: FutureWarning: Unlike other reduction functions (e.g. `skew`, `kurtosis`), the default behavior of `mode` typically preserves the axis it acts along. In SciPy 1.11.0, this behavior will change: the default value of `keepdims` will become False, the `axis` over which the statistic is taken will be eliminated, and the value None will no longer be accepted. Set `keepdims` to True or False to avoid this warning.\n",
      "  mode, _ = stats.mode(_y[neigh_ind, k], axis=1)\n"
     ]
    },
    {
     "data": {
      "text/plain": [
       "array([1, 3, 2, 1, 2, 2, 1, 3, 2, 2, 1, 2, 1, 3, 3, 2, 1, 1, 2, 1, 2, 1,\n",
       "       3, 2, 1, 2, 2, 2, 3, 3, 1, 1, 2, 1, 1, 2], dtype=int64)"
      ]
     },
     "execution_count": 142,
     "metadata": {},
     "output_type": "execute_result"
    }
   ],
   "source": [
    "y_pred1 = model.predict(xtest)\n",
    "y_pred1\n"
   ]
  },
  {
   "cell_type": "code",
   "execution_count": 143,
   "id": "93ca4b40",
   "metadata": {},
   "outputs": [
    {
     "data": {
      "text/plain": [
       "54     1\n",
       "151    3\n",
       "63     2\n",
       "55     1\n",
       "123    2\n",
       "121    2\n",
       "7      1\n",
       "160    3\n",
       "106    2\n",
       "90     2\n",
       "141    3\n",
       "146    3\n",
       "5      1\n",
       "98     2\n",
       "168    3\n",
       "80     2\n",
       "33     1\n",
       "18     1\n",
       "61     2\n",
       "51     1\n",
       "66     2\n",
       "37     1\n",
       "4      1\n",
       "104    2\n",
       "60     2\n",
       "111    2\n",
       "126    2\n",
       "86     2\n",
       "112    2\n",
       "164    3\n",
       "26     1\n",
       "56     1\n",
       "129    2\n",
       "45     1\n",
       "8      1\n",
       "44     1\n",
       "Name: Wine, dtype: int64"
      ]
     },
     "execution_count": 143,
     "metadata": {},
     "output_type": "execute_result"
    }
   ],
   "source": [
    "ytest"
   ]
  },
  {
   "cell_type": "code",
   "execution_count": 144,
   "id": "f4ab69dc",
   "metadata": {},
   "outputs": [
    {
     "name": "stdout",
     "output_type": "stream",
     "text": [
      "[[12  1  1]\n",
      " [ 1 13  2]\n",
      " [ 1  1  4]]\n",
      "0.8055555555555556\n"
     ]
    }
   ],
   "source": [
    "#performance analysis for k = 3, manhattan\n",
    "print(confusion_matrix(ytest,y_pred1))\n",
    "print(accuracy_score(ytest,y_pred1))\n",
    "ack3m = accuracy_score(ytest,y_pred1)"
   ]
  },
  {
   "cell_type": "code",
   "execution_count": 145,
   "id": "5e02c668",
   "metadata": {},
   "outputs": [
    {
     "data": {
      "text/plain": [
       "KNeighborsClassifier(metric='jaccard', n_neighbors=3)"
      ]
     },
     "execution_count": 145,
     "metadata": {},
     "output_type": "execute_result"
    }
   ],
   "source": [
    "#performing knn for k = 3, jaccard\n",
    "model = KNeighborsClassifier(n_neighbors = 3,metric = 'jaccard')\n",
    "model.fit(xtrain,ytrain)"
   ]
  },
  {
   "cell_type": "code",
   "execution_count": 146,
   "id": "021dec4f",
   "metadata": {},
   "outputs": [
    {
     "name": "stderr",
     "output_type": "stream",
     "text": [
      "C:\\ProgramData\\Anaconda3\\lib\\site-packages\\sklearn\\neighbors\\_classification.py:228: FutureWarning: Unlike other reduction functions (e.g. `skew`, `kurtosis`), the default behavior of `mode` typically preserves the axis it acts along. In SciPy 1.11.0, this behavior will change: the default value of `keepdims` will become False, the `axis` over which the statistic is taken will be eliminated, and the value None will no longer be accepted. Set `keepdims` to True or False to avoid this warning.\n",
      "  mode, _ = stats.mode(_y[neigh_ind, k], axis=1)\n"
     ]
    }
   ],
   "source": [
    "y_pred2 = model.predict(xtest)"
   ]
  },
  {
   "cell_type": "code",
   "execution_count": 147,
   "id": "059fe6a3",
   "metadata": {},
   "outputs": [
    {
     "data": {
      "text/plain": [
       "array([2, 2, 2, 2, 2, 2, 2, 2, 2, 2, 2, 2, 2, 2, 2, 2, 2, 2, 2, 2, 2, 2,\n",
       "       2, 2, 2, 2, 2, 2, 2, 2, 2, 2, 2, 2, 2, 2], dtype=int64)"
      ]
     },
     "execution_count": 147,
     "metadata": {},
     "output_type": "execute_result"
    }
   ],
   "source": [
    "y_pred2"
   ]
  },
  {
   "cell_type": "code",
   "execution_count": 148,
   "id": "9f6ec56c",
   "metadata": {},
   "outputs": [
    {
     "data": {
      "text/plain": [
       "54     1\n",
       "151    3\n",
       "63     2\n",
       "55     1\n",
       "123    2\n",
       "121    2\n",
       "7      1\n",
       "160    3\n",
       "106    2\n",
       "90     2\n",
       "141    3\n",
       "146    3\n",
       "5      1\n",
       "98     2\n",
       "168    3\n",
       "80     2\n",
       "33     1\n",
       "18     1\n",
       "61     2\n",
       "51     1\n",
       "66     2\n",
       "37     1\n",
       "4      1\n",
       "104    2\n",
       "60     2\n",
       "111    2\n",
       "126    2\n",
       "86     2\n",
       "112    2\n",
       "164    3\n",
       "26     1\n",
       "56     1\n",
       "129    2\n",
       "45     1\n",
       "8      1\n",
       "44     1\n",
       "Name: Wine, dtype: int64"
      ]
     },
     "execution_count": 148,
     "metadata": {},
     "output_type": "execute_result"
    }
   ],
   "source": [
    "ytest"
   ]
  },
  {
   "cell_type": "code",
   "execution_count": 149,
   "id": "d7f06fcf",
   "metadata": {},
   "outputs": [
    {
     "name": "stdout",
     "output_type": "stream",
     "text": [
      "[[ 0 14  0]\n",
      " [ 0 16  0]\n",
      " [ 0  6  0]]\n",
      "0.4444444444444444\n"
     ]
    }
   ],
   "source": [
    "#performance analysis of k = 3, jaccard\n",
    "print(confusion_matrix(ytest,y_pred2))\n",
    "print(accuracy_score(ytest,y_pred2))\n",
    "ack3j = accuracy_score(ytest,y_pred2)"
   ]
  },
  {
   "cell_type": "code",
   "execution_count": 150,
   "id": "cb42596e",
   "metadata": {},
   "outputs": [
    {
     "data": {
      "text/plain": [
       "KNeighborsClassifier(metric='cosine', n_neighbors=3)"
      ]
     },
     "execution_count": 150,
     "metadata": {},
     "output_type": "execute_result"
    }
   ],
   "source": [
    "#performing knn for k = 3, cosine\n",
    "model = KNeighborsClassifier(n_neighbors = 3, metric = 'cosine')\n",
    "model.fit(xtrain,ytrain)"
   ]
  },
  {
   "cell_type": "code",
   "execution_count": 151,
   "id": "28479194",
   "metadata": {},
   "outputs": [
    {
     "name": "stderr",
     "output_type": "stream",
     "text": [
      "C:\\ProgramData\\Anaconda3\\lib\\site-packages\\sklearn\\neighbors\\_classification.py:228: FutureWarning: Unlike other reduction functions (e.g. `skew`, `kurtosis`), the default behavior of `mode` typically preserves the axis it acts along. In SciPy 1.11.0, this behavior will change: the default value of `keepdims` will become False, the `axis` over which the statistic is taken will be eliminated, and the value None will no longer be accepted. Set `keepdims` to True or False to avoid this warning.\n",
      "  mode, _ = stats.mode(_y[neigh_ind, k], axis=1)\n"
     ]
    }
   ],
   "source": [
    "y_pred4 = model.predict(xtest)"
   ]
  },
  {
   "cell_type": "code",
   "execution_count": 152,
   "id": "3c1b0f5f",
   "metadata": {},
   "outputs": [
    {
     "data": {
      "text/plain": [
       "array([1, 2, 2, 1, 2, 3, 1, 3, 2, 3, 1, 3, 1, 1, 3, 2, 1, 1, 2, 1, 2, 1,\n",
       "       3, 2, 2, 2, 2, 2, 3, 3, 1, 1, 3, 1, 1, 1], dtype=int64)"
      ]
     },
     "execution_count": 152,
     "metadata": {},
     "output_type": "execute_result"
    }
   ],
   "source": [
    "y_pred4"
   ]
  },
  {
   "cell_type": "code",
   "execution_count": 153,
   "id": "efc070a4",
   "metadata": {},
   "outputs": [
    {
     "data": {
      "text/plain": [
       "54     1\n",
       "151    3\n",
       "63     2\n",
       "55     1\n",
       "123    2\n",
       "121    2\n",
       "7      1\n",
       "160    3\n",
       "106    2\n",
       "90     2\n",
       "141    3\n",
       "146    3\n",
       "5      1\n",
       "98     2\n",
       "168    3\n",
       "80     2\n",
       "33     1\n",
       "18     1\n",
       "61     2\n",
       "51     1\n",
       "66     2\n",
       "37     1\n",
       "4      1\n",
       "104    2\n",
       "60     2\n",
       "111    2\n",
       "126    2\n",
       "86     2\n",
       "112    2\n",
       "164    3\n",
       "26     1\n",
       "56     1\n",
       "129    2\n",
       "45     1\n",
       "8      1\n",
       "44     1\n",
       "Name: Wine, dtype: int64"
      ]
     },
     "execution_count": 153,
     "metadata": {},
     "output_type": "execute_result"
    }
   ],
   "source": [
    "ytest"
   ]
  },
  {
   "cell_type": "code",
   "execution_count": 154,
   "id": "93ef3367",
   "metadata": {},
   "outputs": [
    {
     "name": "stdout",
     "output_type": "stream",
     "text": [
      "[[13  0  1]\n",
      " [ 1 11  4]\n",
      " [ 1  1  4]]\n",
      "0.7777777777777778\n"
     ]
    }
   ],
   "source": [
    "print(confusion_matrix(ytest,y_pred4))\n",
    "print(accuracy_score(ytest,y_pred4))\n",
    "ack3c = accuracy_score(ytest,y_pred4)"
   ]
  },
  {
   "cell_type": "code",
   "execution_count": 155,
   "id": "ba00f0d1",
   "metadata": {},
   "outputs": [
    {
     "data": {
      "text/plain": [
       "KNeighborsClassifier(n_neighbors=2)"
      ]
     },
     "execution_count": 155,
     "metadata": {},
     "output_type": "execute_result"
    }
   ],
   "source": [
    "#knn for k = 2,Euclidian\n",
    "model2= KNeighborsClassifier(n_neighbors =2)\n",
    "model2.fit(xtrain,ytrain)"
   ]
  },
  {
   "cell_type": "code",
   "execution_count": 156,
   "id": "6c22f4e0",
   "metadata": {},
   "outputs": [
    {
     "name": "stderr",
     "output_type": "stream",
     "text": [
      "C:\\ProgramData\\Anaconda3\\lib\\site-packages\\sklearn\\neighbors\\_classification.py:228: FutureWarning: Unlike other reduction functions (e.g. `skew`, `kurtosis`), the default behavior of `mode` typically preserves the axis it acts along. In SciPy 1.11.0, this behavior will change: the default value of `keepdims` will become False, the `axis` over which the statistic is taken will be eliminated, and the value None will no longer be accepted. Set `keepdims` to True or False to avoid this warning.\n",
      "  mode, _ = stats.mode(_y[neigh_ind, k], axis=1)\n"
     ]
    }
   ],
   "source": [
    "ypred2= model.predict(xtest)"
   ]
  },
  {
   "cell_type": "code",
   "execution_count": 157,
   "id": "0064f1a7",
   "metadata": {},
   "outputs": [
    {
     "data": {
      "text/plain": [
       "array([1, 2, 2, 1, 2, 3, 1, 3, 2, 3, 1, 3, 1, 1, 3, 2, 1, 1, 2, 1, 2, 1,\n",
       "       3, 2, 2, 2, 2, 2, 3, 3, 1, 1, 3, 1, 1, 1], dtype=int64)"
      ]
     },
     "execution_count": 157,
     "metadata": {},
     "output_type": "execute_result"
    }
   ],
   "source": [
    "ypred2\n"
   ]
  },
  {
   "cell_type": "code",
   "execution_count": 158,
   "id": "c118ff36",
   "metadata": {},
   "outputs": [
    {
     "data": {
      "text/plain": [
       "54     1\n",
       "151    3\n",
       "63     2\n",
       "55     1\n",
       "123    2\n",
       "121    2\n",
       "7      1\n",
       "160    3\n",
       "106    2\n",
       "90     2\n",
       "141    3\n",
       "146    3\n",
       "5      1\n",
       "98     2\n",
       "168    3\n",
       "80     2\n",
       "33     1\n",
       "18     1\n",
       "61     2\n",
       "51     1\n",
       "66     2\n",
       "37     1\n",
       "4      1\n",
       "104    2\n",
       "60     2\n",
       "111    2\n",
       "126    2\n",
       "86     2\n",
       "112    2\n",
       "164    3\n",
       "26     1\n",
       "56     1\n",
       "129    2\n",
       "45     1\n",
       "8      1\n",
       "44     1\n",
       "Name: Wine, dtype: int64"
      ]
     },
     "execution_count": 158,
     "metadata": {},
     "output_type": "execute_result"
    }
   ],
   "source": [
    "ytest"
   ]
  },
  {
   "cell_type": "code",
   "execution_count": 159,
   "id": "a5fca5f2",
   "metadata": {},
   "outputs": [
    {
     "name": "stdout",
     "output_type": "stream",
     "text": [
      "[[13  0  1]\n",
      " [ 1 11  4]\n",
      " [ 1  1  4]]\n",
      "0.7777777777777778\n"
     ]
    }
   ],
   "source": [
    "#performance analysis for k = 2,Euclidean\n",
    "print(confusion_matrix(ytest,ypred2))\n",
    "print(accuracy_score(ytest,ypred2))\n",
    "ack2e = accuracy_score(ytest,ypred2)"
   ]
  },
  {
   "cell_type": "code",
   "execution_count": 160,
   "id": "e6e8ea5e",
   "metadata": {},
   "outputs": [
    {
     "data": {
      "text/plain": [
       "KNeighborsClassifier(metric='manhattan', n_neighbors=2)"
      ]
     },
     "execution_count": 160,
     "metadata": {},
     "output_type": "execute_result"
    }
   ],
   "source": [
    "#performing knn for k =2,manhattan\n",
    "model2 = KNeighborsClassifier(n_neighbors = 2, metric = 'manhattan')\n",
    "model2.fit(xtrain,ytrain)"
   ]
  },
  {
   "cell_type": "code",
   "execution_count": 161,
   "id": "43fa34b0",
   "metadata": {},
   "outputs": [
    {
     "name": "stderr",
     "output_type": "stream",
     "text": [
      "C:\\ProgramData\\Anaconda3\\lib\\site-packages\\sklearn\\neighbors\\_classification.py:228: FutureWarning: Unlike other reduction functions (e.g. `skew`, `kurtosis`), the default behavior of `mode` typically preserves the axis it acts along. In SciPy 1.11.0, this behavior will change: the default value of `keepdims` will become False, the `axis` over which the statistic is taken will be eliminated, and the value None will no longer be accepted. Set `keepdims` to True or False to avoid this warning.\n",
      "  mode, _ = stats.mode(_y[neigh_ind, k], axis=1)\n"
     ]
    },
    {
     "data": {
      "text/plain": [
       "array([1, 2, 2, 1, 2, 2, 1, 2, 2, 2, 1, 2, 1, 3, 2, 2, 1, 1, 2, 1, 2, 1,\n",
       "       2, 2, 1, 2, 2, 2, 3, 3, 1, 1, 2, 1, 1, 1], dtype=int64)"
      ]
     },
     "execution_count": 161,
     "metadata": {},
     "output_type": "execute_result"
    }
   ],
   "source": [
    "ypred2m = model2.predict(xtest)\n",
    "ypred2m"
   ]
  },
  {
   "cell_type": "code",
   "execution_count": 162,
   "id": "a1684342",
   "metadata": {},
   "outputs": [
    {
     "data": {
      "text/plain": [
       "54     1\n",
       "151    3\n",
       "63     2\n",
       "55     1\n",
       "123    2\n",
       "121    2\n",
       "7      1\n",
       "160    3\n",
       "106    2\n",
       "90     2\n",
       "141    3\n",
       "146    3\n",
       "5      1\n",
       "98     2\n",
       "168    3\n",
       "80     2\n",
       "33     1\n",
       "18     1\n",
       "61     2\n",
       "51     1\n",
       "66     2\n",
       "37     1\n",
       "4      1\n",
       "104    2\n",
       "60     2\n",
       "111    2\n",
       "126    2\n",
       "86     2\n",
       "112    2\n",
       "164    3\n",
       "26     1\n",
       "56     1\n",
       "129    2\n",
       "45     1\n",
       "8      1\n",
       "44     1\n",
       "Name: Wine, dtype: int64"
      ]
     },
     "execution_count": 162,
     "metadata": {},
     "output_type": "execute_result"
    }
   ],
   "source": [
    "ytest"
   ]
  },
  {
   "cell_type": "code",
   "execution_count": 163,
   "id": "d99a8b2b",
   "metadata": {},
   "outputs": [
    {
     "name": "stdout",
     "output_type": "stream",
     "text": [
      "[[13  1  0]\n",
      " [ 1 13  2]\n",
      " [ 1  4  1]]\n",
      "0.75\n"
     ]
    }
   ],
   "source": [
    "#performance analysis for k = 2 , manhattan\n",
    "print(confusion_matrix(ytest,ypred2m))\n",
    "print(accuracy_score(ytest,ypred2m))\n",
    "ack2m = accuracy_score(ytest,ypred2m)"
   ]
  },
  {
   "cell_type": "code",
   "execution_count": 164,
   "id": "fcbc1ef8",
   "metadata": {},
   "outputs": [
    {
     "data": {
      "text/plain": [
       "KNeighborsClassifier(metric='jaccard', n_neighbors=2)"
      ]
     },
     "execution_count": 164,
     "metadata": {},
     "output_type": "execute_result"
    }
   ],
   "source": [
    "#performing knn for k = 2, jaccard\n",
    "model2 = KNeighborsClassifier(n_neighbors = 2, metric = 'jaccard')\n",
    "model2.fit(xtrain,ytrain)"
   ]
  },
  {
   "cell_type": "code",
   "execution_count": 165,
   "id": "b437aebe",
   "metadata": {},
   "outputs": [
    {
     "name": "stderr",
     "output_type": "stream",
     "text": [
      "C:\\ProgramData\\Anaconda3\\lib\\site-packages\\sklearn\\neighbors\\_classification.py:228: FutureWarning: Unlike other reduction functions (e.g. `skew`, `kurtosis`), the default behavior of `mode` typically preserves the axis it acts along. In SciPy 1.11.0, this behavior will change: the default value of `keepdims` will become False, the `axis` over which the statistic is taken will be eliminated, and the value None will no longer be accepted. Set `keepdims` to True or False to avoid this warning.\n",
      "  mode, _ = stats.mode(_y[neigh_ind, k], axis=1)\n"
     ]
    },
    {
     "data": {
      "text/plain": [
       "array([2, 2, 2, 2, 2, 2, 2, 2, 2, 2, 2, 2, 2, 2, 2, 2, 2, 2, 2, 2, 2, 2,\n",
       "       2, 2, 2, 2, 2, 2, 2, 2, 2, 2, 2, 2, 2, 2], dtype=int64)"
      ]
     },
     "execution_count": 165,
     "metadata": {},
     "output_type": "execute_result"
    }
   ],
   "source": [
    "ypred2j = model2.predict(xtest)\n",
    "ypred2j"
   ]
  },
  {
   "cell_type": "code",
   "execution_count": 166,
   "id": "073e02ed",
   "metadata": {},
   "outputs": [
    {
     "data": {
      "text/plain": [
       "54     1\n",
       "151    3\n",
       "63     2\n",
       "55     1\n",
       "123    2\n",
       "121    2\n",
       "7      1\n",
       "160    3\n",
       "106    2\n",
       "90     2\n",
       "141    3\n",
       "146    3\n",
       "5      1\n",
       "98     2\n",
       "168    3\n",
       "80     2\n",
       "33     1\n",
       "18     1\n",
       "61     2\n",
       "51     1\n",
       "66     2\n",
       "37     1\n",
       "4      1\n",
       "104    2\n",
       "60     2\n",
       "111    2\n",
       "126    2\n",
       "86     2\n",
       "112    2\n",
       "164    3\n",
       "26     1\n",
       "56     1\n",
       "129    2\n",
       "45     1\n",
       "8      1\n",
       "44     1\n",
       "Name: Wine, dtype: int64"
      ]
     },
     "execution_count": 166,
     "metadata": {},
     "output_type": "execute_result"
    }
   ],
   "source": [
    "ytest\n"
   ]
  },
  {
   "cell_type": "code",
   "execution_count": 167,
   "id": "4042e316",
   "metadata": {},
   "outputs": [
    {
     "name": "stdout",
     "output_type": "stream",
     "text": [
      "[[ 0 14  0]\n",
      " [ 0 16  0]\n",
      " [ 0  6  0]]\n",
      "0.4444444444444444\n"
     ]
    }
   ],
   "source": [
    "#performance analysis for k = 2 , jaccard\n",
    "print(confusion_matrix(ytest,ypred2j))\n",
    "print(accuracy_score(ytest,ypred2j))\n",
    "ack2j = accuracy_score(ytest,ypred2j)"
   ]
  },
  {
   "cell_type": "code",
   "execution_count": 168,
   "id": "f2ee4733",
   "metadata": {},
   "outputs": [
    {
     "data": {
      "text/plain": [
       "KNeighborsClassifier(metric='cosine', n_neighbors=2)"
      ]
     },
     "execution_count": 168,
     "metadata": {},
     "output_type": "execute_result"
    }
   ],
   "source": [
    "#performing knn for k = 2 , cosine \n",
    "model2 = KNeighborsClassifier(n_neighbors = 2,metric = 'cosine')\n",
    "model2.fit(xtrain,ytrain)"
   ]
  },
  {
   "cell_type": "code",
   "execution_count": 169,
   "id": "ec7bcba5",
   "metadata": {},
   "outputs": [
    {
     "name": "stderr",
     "output_type": "stream",
     "text": [
      "C:\\ProgramData\\Anaconda3\\lib\\site-packages\\sklearn\\neighbors\\_classification.py:228: FutureWarning: Unlike other reduction functions (e.g. `skew`, `kurtosis`), the default behavior of `mode` typically preserves the axis it acts along. In SciPy 1.11.0, this behavior will change: the default value of `keepdims` will become False, the `axis` over which the statistic is taken will be eliminated, and the value None will no longer be accepted. Set `keepdims` to True or False to avoid this warning.\n",
      "  mode, _ = stats.mode(_y[neigh_ind, k], axis=1)\n"
     ]
    }
   ],
   "source": [
    "ypred2c = model2.predict(xtest)"
   ]
  },
  {
   "cell_type": "code",
   "execution_count": 170,
   "id": "60e2bd62",
   "metadata": {},
   "outputs": [
    {
     "data": {
      "text/plain": [
       "array([1, 2, 2, 1, 2, 2, 1, 3, 2, 2, 1, 3, 1, 1, 3, 2, 1, 1, 2, 1, 2, 1,\n",
       "       3, 2, 1, 2, 2, 2, 3, 3, 1, 1, 3, 1, 1, 1], dtype=int64)"
      ]
     },
     "execution_count": 170,
     "metadata": {},
     "output_type": "execute_result"
    }
   ],
   "source": [
    "ypred2c\n"
   ]
  },
  {
   "cell_type": "code",
   "execution_count": 171,
   "id": "a962c253",
   "metadata": {},
   "outputs": [
    {
     "data": {
      "text/plain": [
       "54     1\n",
       "151    3\n",
       "63     2\n",
       "55     1\n",
       "123    2\n",
       "121    2\n",
       "7      1\n",
       "160    3\n",
       "106    2\n",
       "90     2\n",
       "141    3\n",
       "146    3\n",
       "5      1\n",
       "98     2\n",
       "168    3\n",
       "80     2\n",
       "33     1\n",
       "18     1\n",
       "61     2\n",
       "51     1\n",
       "66     2\n",
       "37     1\n",
       "4      1\n",
       "104    2\n",
       "60     2\n",
       "111    2\n",
       "126    2\n",
       "86     2\n",
       "112    2\n",
       "164    3\n",
       "26     1\n",
       "56     1\n",
       "129    2\n",
       "45     1\n",
       "8      1\n",
       "44     1\n",
       "Name: Wine, dtype: int64"
      ]
     },
     "execution_count": 171,
     "metadata": {},
     "output_type": "execute_result"
    }
   ],
   "source": [
    "ytest"
   ]
  },
  {
   "cell_type": "code",
   "execution_count": 172,
   "id": "dbe295b5",
   "metadata": {},
   "outputs": [
    {
     "name": "stdout",
     "output_type": "stream",
     "text": [
      "[[13  0  1]\n",
      " [ 2 12  2]\n",
      " [ 1  1  4]]\n",
      "0.8055555555555556\n"
     ]
    }
   ],
   "source": [
    "#performance analysis of k =3, cosine\n",
    "print(confusion_matrix(ytest,ypred2c))\n",
    "print(accuracy_score(ytest,ypred2c))\n",
    "ack2c = accuracy_score(ytest,ypred2c)"
   ]
  },
  {
   "cell_type": "code",
   "execution_count": 173,
   "id": "a945e11f",
   "metadata": {},
   "outputs": [
    {
     "data": {
      "text/plain": [
       "KNeighborsClassifier(n_neighbors=1)"
      ]
     },
     "execution_count": 173,
     "metadata": {},
     "output_type": "execute_result"
    }
   ],
   "source": [
    "#knn for k = 1,euclidian \n",
    "model3 = KNeighborsClassifier(n_neighbors = 1)   \n",
    "model3.fit(xtrain,ytrain)"
   ]
  },
  {
   "cell_type": "code",
   "execution_count": 174,
   "id": "dc73ce32",
   "metadata": {},
   "outputs": [
    {
     "name": "stderr",
     "output_type": "stream",
     "text": [
      "C:\\ProgramData\\Anaconda3\\lib\\site-packages\\sklearn\\neighbors\\_classification.py:228: FutureWarning: Unlike other reduction functions (e.g. `skew`, `kurtosis`), the default behavior of `mode` typically preserves the axis it acts along. In SciPy 1.11.0, this behavior will change: the default value of `keepdims` will become False, the `axis` over which the statistic is taken will be eliminated, and the value None will no longer be accepted. Set `keepdims` to True or False to avoid this warning.\n",
      "  mode, _ = stats.mode(_y[neigh_ind, k], axis=1)\n"
     ]
    }
   ],
   "source": [
    "ypred3 = model3.predict(xtest)"
   ]
  },
  {
   "cell_type": "code",
   "execution_count": 175,
   "id": "190b9391",
   "metadata": {},
   "outputs": [
    {
     "data": {
      "text/plain": [
       "array([1, 2, 2, 1, 2, 2, 1, 3, 2, 2, 1, 2, 1, 3, 3, 2, 1, 1, 2, 1, 2, 1,\n",
       "       2, 2, 1, 2, 2, 2, 3, 3, 1, 1, 3, 1, 1, 1], dtype=int64)"
      ]
     },
     "execution_count": 175,
     "metadata": {},
     "output_type": "execute_result"
    }
   ],
   "source": [
    "ypred3"
   ]
  },
  {
   "cell_type": "code",
   "execution_count": 176,
   "id": "3290464a",
   "metadata": {},
   "outputs": [
    {
     "data": {
      "text/plain": [
       "54     1\n",
       "151    3\n",
       "63     2\n",
       "55     1\n",
       "123    2\n",
       "121    2\n",
       "7      1\n",
       "160    3\n",
       "106    2\n",
       "90     2\n",
       "141    3\n",
       "146    3\n",
       "5      1\n",
       "98     2\n",
       "168    3\n",
       "80     2\n",
       "33     1\n",
       "18     1\n",
       "61     2\n",
       "51     1\n",
       "66     2\n",
       "37     1\n",
       "4      1\n",
       "104    2\n",
       "60     2\n",
       "111    2\n",
       "126    2\n",
       "86     2\n",
       "112    2\n",
       "164    3\n",
       "26     1\n",
       "56     1\n",
       "129    2\n",
       "45     1\n",
       "8      1\n",
       "44     1\n",
       "Name: Wine, dtype: int64"
      ]
     },
     "execution_count": 176,
     "metadata": {},
     "output_type": "execute_result"
    }
   ],
   "source": [
    "ytest\n"
   ]
  },
  {
   "cell_type": "code",
   "execution_count": 177,
   "id": "78d3874b",
   "metadata": {},
   "outputs": [
    {
     "name": "stdout",
     "output_type": "stream",
     "text": [
      "[[13  1  0]\n",
      " [ 1 12  3]\n",
      " [ 1  2  3]]\n",
      "0.7777777777777778\n"
     ]
    }
   ],
   "source": [
    "#performance analysis for k = 1\n",
    "print(confusion_matrix(ytest,ypred3))\n",
    "print(accuracy_score(ytest,ypred3))\n",
    "ack1e = accuracy_score(ytest,ypred3)"
   ]
  },
  {
   "cell_type": "code",
   "execution_count": 178,
   "id": "f33daafa",
   "metadata": {},
   "outputs": [
    {
     "data": {
      "text/plain": [
       "KNeighborsClassifier(metric='manhattan', n_neighbors=1)"
      ]
     },
     "execution_count": 178,
     "metadata": {},
     "output_type": "execute_result"
    }
   ],
   "source": [
    "#knn for k =1, manhattan \n",
    "model3 = KNeighborsClassifier(n_neighbors = 1,metric = 'manhattan')   \n",
    "model3.fit(xtrain,ytrain)"
   ]
  },
  {
   "cell_type": "code",
   "execution_count": 179,
   "id": "b603fdcb",
   "metadata": {},
   "outputs": [
    {
     "name": "stderr",
     "output_type": "stream",
     "text": [
      "C:\\ProgramData\\Anaconda3\\lib\\site-packages\\sklearn\\neighbors\\_classification.py:228: FutureWarning: Unlike other reduction functions (e.g. `skew`, `kurtosis`), the default behavior of `mode` typically preserves the axis it acts along. In SciPy 1.11.0, this behavior will change: the default value of `keepdims` will become False, the `axis` over which the statistic is taken will be eliminated, and the value None will no longer be accepted. Set `keepdims` to True or False to avoid this warning.\n",
      "  mode, _ = stats.mode(_y[neigh_ind, k], axis=1)\n"
     ]
    }
   ],
   "source": [
    "ypred3m = model3.predict(xtest)"
   ]
  },
  {
   "cell_type": "code",
   "execution_count": 180,
   "id": "a3be8d44",
   "metadata": {},
   "outputs": [
    {
     "data": {
      "text/plain": [
       "array([1, 3, 2, 1, 2, 2, 1, 3, 2, 2, 1, 2, 1, 3, 3, 2, 1, 1, 2, 1, 2, 1,\n",
       "       2, 2, 2, 2, 2, 2, 3, 3, 1, 1, 3, 1, 1, 1], dtype=int64)"
      ]
     },
     "execution_count": 180,
     "metadata": {},
     "output_type": "execute_result"
    }
   ],
   "source": [
    "ypred3m"
   ]
  },
  {
   "cell_type": "code",
   "execution_count": 181,
   "id": "c04151e7",
   "metadata": {},
   "outputs": [
    {
     "data": {
      "text/plain": [
       "54     1\n",
       "151    3\n",
       "63     2\n",
       "55     1\n",
       "123    2\n",
       "121    2\n",
       "7      1\n",
       "160    3\n",
       "106    2\n",
       "90     2\n",
       "141    3\n",
       "146    3\n",
       "5      1\n",
       "98     2\n",
       "168    3\n",
       "80     2\n",
       "33     1\n",
       "18     1\n",
       "61     2\n",
       "51     1\n",
       "66     2\n",
       "37     1\n",
       "4      1\n",
       "104    2\n",
       "60     2\n",
       "111    2\n",
       "126    2\n",
       "86     2\n",
       "112    2\n",
       "164    3\n",
       "26     1\n",
       "56     1\n",
       "129    2\n",
       "45     1\n",
       "8      1\n",
       "44     1\n",
       "Name: Wine, dtype: int64"
      ]
     },
     "execution_count": 181,
     "metadata": {},
     "output_type": "execute_result"
    }
   ],
   "source": [
    "ytest"
   ]
  },
  {
   "cell_type": "code",
   "execution_count": 182,
   "id": "cb60b50f",
   "metadata": {},
   "outputs": [
    {
     "name": "stdout",
     "output_type": "stream",
     "text": [
      "[[13  1  0]\n",
      " [ 0 13  3]\n",
      " [ 1  1  4]]\n",
      "0.8333333333333334\n"
     ]
    }
   ],
   "source": [
    "#performance analysis of k =1 ,  manhattan\n",
    "print(confusion_matrix(ytest,ypred3m))\n",
    "print(accuracy_score(ytest,ypred3m))\n",
    "ack1m = accuracy_score(ytest,ypred3m)"
   ]
  },
  {
   "cell_type": "code",
   "execution_count": 183,
   "id": "1629497c",
   "metadata": {},
   "outputs": [
    {
     "data": {
      "text/plain": [
       "KNeighborsClassifier(metric='jaccard', n_neighbors=1)"
      ]
     },
     "execution_count": 183,
     "metadata": {},
     "output_type": "execute_result"
    }
   ],
   "source": [
    "#knn for k =1 , jaccard\n",
    "model3 = KNeighborsClassifier(n_neighbors = 1,metric = 'jaccard')   \n",
    "model3.fit(xtrain,ytrain)"
   ]
  },
  {
   "cell_type": "code",
   "execution_count": 184,
   "id": "2a3e67e7",
   "metadata": {},
   "outputs": [
    {
     "name": "stderr",
     "output_type": "stream",
     "text": [
      "C:\\ProgramData\\Anaconda3\\lib\\site-packages\\sklearn\\neighbors\\_classification.py:228: FutureWarning: Unlike other reduction functions (e.g. `skew`, `kurtosis`), the default behavior of `mode` typically preserves the axis it acts along. In SciPy 1.11.0, this behavior will change: the default value of `keepdims` will become False, the `axis` over which the statistic is taken will be eliminated, and the value None will no longer be accepted. Set `keepdims` to True or False to avoid this warning.\n",
      "  mode, _ = stats.mode(_y[neigh_ind, k], axis=1)\n"
     ]
    }
   ],
   "source": [
    "ypred3j = model3.predict(xtest)"
   ]
  },
  {
   "cell_type": "code",
   "execution_count": 185,
   "id": "6bc0dc32",
   "metadata": {},
   "outputs": [
    {
     "data": {
      "text/plain": [
       "array([2, 2, 2, 2, 2, 2, 2, 2, 2, 2, 2, 2, 2, 2, 2, 2, 2, 2, 2, 2, 2, 2,\n",
       "       2, 2, 2, 2, 2, 2, 2, 2, 2, 2, 2, 2, 2, 2], dtype=int64)"
      ]
     },
     "execution_count": 185,
     "metadata": {},
     "output_type": "execute_result"
    }
   ],
   "source": [
    "ypred3j"
   ]
  },
  {
   "cell_type": "code",
   "execution_count": 186,
   "id": "e973822c",
   "metadata": {},
   "outputs": [
    {
     "data": {
      "text/plain": [
       "54     1\n",
       "151    3\n",
       "63     2\n",
       "55     1\n",
       "123    2\n",
       "121    2\n",
       "7      1\n",
       "160    3\n",
       "106    2\n",
       "90     2\n",
       "141    3\n",
       "146    3\n",
       "5      1\n",
       "98     2\n",
       "168    3\n",
       "80     2\n",
       "33     1\n",
       "18     1\n",
       "61     2\n",
       "51     1\n",
       "66     2\n",
       "37     1\n",
       "4      1\n",
       "104    2\n",
       "60     2\n",
       "111    2\n",
       "126    2\n",
       "86     2\n",
       "112    2\n",
       "164    3\n",
       "26     1\n",
       "56     1\n",
       "129    2\n",
       "45     1\n",
       "8      1\n",
       "44     1\n",
       "Name: Wine, dtype: int64"
      ]
     },
     "execution_count": 186,
     "metadata": {},
     "output_type": "execute_result"
    }
   ],
   "source": [
    "ytest"
   ]
  },
  {
   "cell_type": "code",
   "execution_count": 187,
   "id": "0dd30808",
   "metadata": {},
   "outputs": [
    {
     "name": "stdout",
     "output_type": "stream",
     "text": [
      "[[ 0 14  0]\n",
      " [ 0 16  0]\n",
      " [ 0  6  0]]\n",
      "0.4444444444444444\n"
     ]
    }
   ],
   "source": [
    "#performance analysis for k = 1, jaccard\n",
    "print(confusion_matrix(ytest,ypred3j))\n",
    "print(accuracy_score(ytest,ypred3j))\n",
    "ack1j = accuracy_score(ytest,ypred3j)"
   ]
  },
  {
   "cell_type": "code",
   "execution_count": 188,
   "id": "940090bf",
   "metadata": {},
   "outputs": [
    {
     "data": {
      "text/plain": [
       "KNeighborsClassifier(metric='cosine', n_neighbors=1)"
      ]
     },
     "execution_count": 188,
     "metadata": {},
     "output_type": "execute_result"
    }
   ],
   "source": [
    "#knn for k =1 , cosine\n",
    "model3 = KNeighborsClassifier(n_neighbors = 1,metric = 'cosine')   \n",
    "model3.fit(xtrain,ytrain)"
   ]
  },
  {
   "cell_type": "code",
   "execution_count": 189,
   "id": "0ef026ca",
   "metadata": {},
   "outputs": [
    {
     "name": "stderr",
     "output_type": "stream",
     "text": [
      "C:\\ProgramData\\Anaconda3\\lib\\site-packages\\sklearn\\neighbors\\_classification.py:228: FutureWarning: Unlike other reduction functions (e.g. `skew`, `kurtosis`), the default behavior of `mode` typically preserves the axis it acts along. In SciPy 1.11.0, this behavior will change: the default value of `keepdims` will become False, the `axis` over which the statistic is taken will be eliminated, and the value None will no longer be accepted. Set `keepdims` to True or False to avoid this warning.\n",
      "  mode, _ = stats.mode(_y[neigh_ind, k], axis=1)\n"
     ]
    }
   ],
   "source": [
    "ypred3c = model3.predict(xtest)"
   ]
  },
  {
   "cell_type": "code",
   "execution_count": 190,
   "id": "7278de52",
   "metadata": {},
   "outputs": [
    {
     "data": {
      "text/plain": [
       "array([1, 3, 2, 1, 2, 2, 1, 3, 2, 2, 1, 3, 1, 2, 3, 2, 1, 1, 2, 1, 2, 1,\n",
       "       3, 2, 2, 2, 2, 3, 3, 3, 1, 1, 3, 1, 1, 1], dtype=int64)"
      ]
     },
     "execution_count": 190,
     "metadata": {},
     "output_type": "execute_result"
    }
   ],
   "source": [
    "ypred3c"
   ]
  },
  {
   "cell_type": "code",
   "execution_count": 191,
   "id": "1b1a1036",
   "metadata": {},
   "outputs": [
    {
     "data": {
      "text/plain": [
       "array([1, 3, 2, 1, 2, 2, 1, 3, 2, 2, 3, 3, 1, 2, 3, 2, 1, 1, 2, 1, 2, 1,\n",
       "       1, 2, 2, 2, 2, 2, 2, 3, 1, 1, 2, 1, 1, 1], dtype=int64)"
      ]
     },
     "execution_count": 191,
     "metadata": {},
     "output_type": "execute_result"
    }
   ],
   "source": [
    "np.array(ytest)"
   ]
  },
  {
   "cell_type": "code",
   "execution_count": 192,
   "id": "f62420d2",
   "metadata": {},
   "outputs": [
    {
     "name": "stdout",
     "output_type": "stream",
     "text": [
      "[[13  0  1]\n",
      " [ 0 13  3]\n",
      " [ 1  0  5]]\n",
      "0.8611111111111112\n"
     ]
    }
   ],
   "source": [
    "#performance analysis of k = 1, cosine\n",
    "print(confusion_matrix(ytest,ypred3c))\n",
    "print(accuracy_score(ytest,ypred3c))\n",
    "ack1c = accuracy_score(ytest,ypred3c)"
   ]
  },
  {
   "cell_type": "code",
   "execution_count": 198,
   "id": "be675d40",
   "metadata": {},
   "outputs": [
    {
     "data": {
      "text/html": [
       "<div>\n",
       "<style scoped>\n",
       "    .dataframe tbody tr th:only-of-type {\n",
       "        vertical-align: middle;\n",
       "    }\n",
       "\n",
       "    .dataframe tbody tr th {\n",
       "        vertical-align: top;\n",
       "    }\n",
       "\n",
       "    .dataframe thead th {\n",
       "        text-align: right;\n",
       "    }\n",
       "</style>\n",
       "<table border=\"1\" class=\"dataframe\">\n",
       "  <thead>\n",
       "    <tr style=\"text-align: right;\">\n",
       "      <th></th>\n",
       "      <th>k</th>\n",
       "      <th>metrics</th>\n",
       "      <th>accuracy_scores</th>\n",
       "    </tr>\n",
       "  </thead>\n",
       "  <tbody>\n",
       "    <tr>\n",
       "      <th>0</th>\n",
       "      <td>3</td>\n",
       "      <td>euclidean</td>\n",
       "      <td>0.777778</td>\n",
       "    </tr>\n",
       "    <tr>\n",
       "      <th>1</th>\n",
       "      <td>3</td>\n",
       "      <td>manhattan</td>\n",
       "      <td>0.805556</td>\n",
       "    </tr>\n",
       "    <tr>\n",
       "      <th>2</th>\n",
       "      <td>3</td>\n",
       "      <td>jaccard</td>\n",
       "      <td>0.444444</td>\n",
       "    </tr>\n",
       "    <tr>\n",
       "      <th>3</th>\n",
       "      <td>3</td>\n",
       "      <td>cosine</td>\n",
       "      <td>0.777778</td>\n",
       "    </tr>\n",
       "    <tr>\n",
       "      <th>4</th>\n",
       "      <td>2</td>\n",
       "      <td>euclidean</td>\n",
       "      <td>0.777778</td>\n",
       "    </tr>\n",
       "    <tr>\n",
       "      <th>5</th>\n",
       "      <td>2</td>\n",
       "      <td>manhattan</td>\n",
       "      <td>0.750000</td>\n",
       "    </tr>\n",
       "    <tr>\n",
       "      <th>6</th>\n",
       "      <td>2</td>\n",
       "      <td>jaccard</td>\n",
       "      <td>0.444444</td>\n",
       "    </tr>\n",
       "    <tr>\n",
       "      <th>7</th>\n",
       "      <td>2</td>\n",
       "      <td>cosine</td>\n",
       "      <td>0.805556</td>\n",
       "    </tr>\n",
       "    <tr>\n",
       "      <th>8</th>\n",
       "      <td>1</td>\n",
       "      <td>euclidean</td>\n",
       "      <td>0.777778</td>\n",
       "    </tr>\n",
       "    <tr>\n",
       "      <th>9</th>\n",
       "      <td>1</td>\n",
       "      <td>manhattan</td>\n",
       "      <td>0.833333</td>\n",
       "    </tr>\n",
       "    <tr>\n",
       "      <th>10</th>\n",
       "      <td>1</td>\n",
       "      <td>jaccard</td>\n",
       "      <td>0.444444</td>\n",
       "    </tr>\n",
       "    <tr>\n",
       "      <th>11</th>\n",
       "      <td>1</td>\n",
       "      <td>cosine</td>\n",
       "      <td>0.861111</td>\n",
       "    </tr>\n",
       "  </tbody>\n",
       "</table>\n",
       "</div>"
      ],
      "text/plain": [
       "    k    metrics  accuracy_scores\n",
       "0   3  euclidean         0.777778\n",
       "1   3  manhattan         0.805556\n",
       "2   3    jaccard         0.444444\n",
       "3   3     cosine         0.777778\n",
       "4   2  euclidean         0.777778\n",
       "5   2  manhattan         0.750000\n",
       "6   2    jaccard         0.444444\n",
       "7   2     cosine         0.805556\n",
       "8   1  euclidean         0.777778\n",
       "9   1  manhattan         0.833333\n",
       "10  1    jaccard         0.444444\n",
       "11  1     cosine         0.861111"
      ]
     },
     "execution_count": 198,
     "metadata": {},
     "output_type": "execute_result"
    }
   ],
   "source": [
    "#putting together the final output for all k and metrics \n",
    "final = { 'k' : [3,3,3,3,2,2,2,2,1,1,1,1],\n",
    "'metrics' : ['euclidean','manhattan','jaccard','cosine','euclidean','manhattan','jaccard','cosine','euclidean','manhattan','jaccard','cosine']\n",
    ",'accuracy_scores':[ack3e,ack3m,ack3j,ack3c,ack2e,ack2m,ack2j,ack2c,ack1e,ack1m,ack1j,ack1c]}\n",
    "\n",
    "pd.DataFrame(final)"
   ]
  },
  {
   "cell_type": "code",
   "execution_count": null,
   "id": "4a5d94ca",
   "metadata": {},
   "outputs": [],
   "source": []
  },
  {
   "cell_type": "code",
   "execution_count": null,
   "id": "ead47c33",
   "metadata": {},
   "outputs": [],
   "source": []
  }
 ],
 "metadata": {
  "kernelspec": {
   "display_name": "Python 3 (ipykernel)",
   "language": "python",
   "name": "python3"
  },
  "language_info": {
   "codemirror_mode": {
    "name": "ipython",
    "version": 3
   },
   "file_extension": ".py",
   "mimetype": "text/x-python",
   "name": "python",
   "nbconvert_exporter": "python",
   "pygments_lexer": "ipython3",
   "version": "3.9.13"
  }
 },
 "nbformat": 4,
 "nbformat_minor": 5
}
