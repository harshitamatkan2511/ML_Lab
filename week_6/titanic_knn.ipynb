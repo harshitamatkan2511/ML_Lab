{
 "cells": [
  {
   "cell_type": "code",
   "execution_count": 59,
   "id": "5e694d87",
   "metadata": {},
   "outputs": [],
   "source": [
    "import pandas as pd\n",
    "import numpy as np\n",
    "import matplotlib.pyplot as plt\n",
    "import seaborn as sns\n"
   ]
  },
  {
   "cell_type": "code",
   "execution_count": 60,
   "id": "1824bf4d",
   "metadata": {},
   "outputs": [
    {
     "data": {
      "text/html": [
       "<div>\n",
       "<style scoped>\n",
       "    .dataframe tbody tr th:only-of-type {\n",
       "        vertical-align: middle;\n",
       "    }\n",
       "\n",
       "    .dataframe tbody tr th {\n",
       "        vertical-align: top;\n",
       "    }\n",
       "\n",
       "    .dataframe thead th {\n",
       "        text-align: right;\n",
       "    }\n",
       "</style>\n",
       "<table border=\"1\" class=\"dataframe\">\n",
       "  <thead>\n",
       "    <tr style=\"text-align: right;\">\n",
       "      <th></th>\n",
       "      <th>PassengerId</th>\n",
       "      <th>Survived</th>\n",
       "      <th>Pclass</th>\n",
       "      <th>Name</th>\n",
       "      <th>Sex</th>\n",
       "      <th>Age</th>\n",
       "      <th>SibSp</th>\n",
       "      <th>Parch</th>\n",
       "      <th>Ticket</th>\n",
       "      <th>Fare</th>\n",
       "      <th>Cabin</th>\n",
       "      <th>Embarked</th>\n",
       "    </tr>\n",
       "  </thead>\n",
       "  <tbody>\n",
       "    <tr>\n",
       "      <th>0</th>\n",
       "      <td>1</td>\n",
       "      <td>0</td>\n",
       "      <td>3</td>\n",
       "      <td>Braund, Mr. Owen Harris</td>\n",
       "      <td>male</td>\n",
       "      <td>22.0</td>\n",
       "      <td>1</td>\n",
       "      <td>0</td>\n",
       "      <td>A/5 21171</td>\n",
       "      <td>7.2500</td>\n",
       "      <td>NaN</td>\n",
       "      <td>S</td>\n",
       "    </tr>\n",
       "    <tr>\n",
       "      <th>1</th>\n",
       "      <td>2</td>\n",
       "      <td>1</td>\n",
       "      <td>1</td>\n",
       "      <td>Cumings, Mrs. John Bradley (Florence Briggs Th...</td>\n",
       "      <td>female</td>\n",
       "      <td>38.0</td>\n",
       "      <td>1</td>\n",
       "      <td>0</td>\n",
       "      <td>PC 17599</td>\n",
       "      <td>71.2833</td>\n",
       "      <td>C85</td>\n",
       "      <td>C</td>\n",
       "    </tr>\n",
       "    <tr>\n",
       "      <th>2</th>\n",
       "      <td>3</td>\n",
       "      <td>1</td>\n",
       "      <td>3</td>\n",
       "      <td>Heikkinen, Miss. Laina</td>\n",
       "      <td>female</td>\n",
       "      <td>26.0</td>\n",
       "      <td>0</td>\n",
       "      <td>0</td>\n",
       "      <td>STON/O2. 3101282</td>\n",
       "      <td>7.9250</td>\n",
       "      <td>NaN</td>\n",
       "      <td>S</td>\n",
       "    </tr>\n",
       "    <tr>\n",
       "      <th>3</th>\n",
       "      <td>4</td>\n",
       "      <td>1</td>\n",
       "      <td>1</td>\n",
       "      <td>Futrelle, Mrs. Jacques Heath (Lily May Peel)</td>\n",
       "      <td>female</td>\n",
       "      <td>35.0</td>\n",
       "      <td>1</td>\n",
       "      <td>0</td>\n",
       "      <td>113803</td>\n",
       "      <td>53.1000</td>\n",
       "      <td>C123</td>\n",
       "      <td>S</td>\n",
       "    </tr>\n",
       "    <tr>\n",
       "      <th>4</th>\n",
       "      <td>5</td>\n",
       "      <td>0</td>\n",
       "      <td>3</td>\n",
       "      <td>Allen, Mr. William Henry</td>\n",
       "      <td>male</td>\n",
       "      <td>35.0</td>\n",
       "      <td>0</td>\n",
       "      <td>0</td>\n",
       "      <td>373450</td>\n",
       "      <td>8.0500</td>\n",
       "      <td>NaN</td>\n",
       "      <td>S</td>\n",
       "    </tr>\n",
       "  </tbody>\n",
       "</table>\n",
       "</div>"
      ],
      "text/plain": [
       "   PassengerId  Survived  Pclass  \\\n",
       "0            1         0       3   \n",
       "1            2         1       1   \n",
       "2            3         1       3   \n",
       "3            4         1       1   \n",
       "4            5         0       3   \n",
       "\n",
       "                                                Name     Sex   Age  SibSp  \\\n",
       "0                            Braund, Mr. Owen Harris    male  22.0      1   \n",
       "1  Cumings, Mrs. John Bradley (Florence Briggs Th...  female  38.0      1   \n",
       "2                             Heikkinen, Miss. Laina  female  26.0      0   \n",
       "3       Futrelle, Mrs. Jacques Heath (Lily May Peel)  female  35.0      1   \n",
       "4                           Allen, Mr. William Henry    male  35.0      0   \n",
       "\n",
       "   Parch            Ticket     Fare Cabin Embarked  \n",
       "0      0         A/5 21171   7.2500   NaN        S  \n",
       "1      0          PC 17599  71.2833   C85        C  \n",
       "2      0  STON/O2. 3101282   7.9250   NaN        S  \n",
       "3      0            113803  53.1000  C123        S  \n",
       "4      0            373450   8.0500   NaN        S  "
      ]
     },
     "execution_count": 60,
     "metadata": {},
     "output_type": "execute_result"
    }
   ],
   "source": [
    "df = pd.read_csv('titanic.csv')\n",
    "df.head()"
   ]
  },
  {
   "cell_type": "code",
   "execution_count": 61,
   "id": "80171415",
   "metadata": {},
   "outputs": [
    {
     "name": "stdout",
     "output_type": "stream",
     "text": [
      "<class 'pandas.core.frame.DataFrame'>\n",
      "RangeIndex: 891 entries, 0 to 890\n",
      "Data columns (total 12 columns):\n",
      " #   Column       Non-Null Count  Dtype  \n",
      "---  ------       --------------  -----  \n",
      " 0   PassengerId  891 non-null    int64  \n",
      " 1   Survived     891 non-null    int64  \n",
      " 2   Pclass       891 non-null    int64  \n",
      " 3   Name         891 non-null    object \n",
      " 4   Sex          891 non-null    object \n",
      " 5   Age          714 non-null    float64\n",
      " 6   SibSp        891 non-null    int64  \n",
      " 7   Parch        891 non-null    int64  \n",
      " 8   Ticket       891 non-null    object \n",
      " 9   Fare         891 non-null    float64\n",
      " 10  Cabin        204 non-null    object \n",
      " 11  Embarked     889 non-null    object \n",
      "dtypes: float64(2), int64(5), object(5)\n",
      "memory usage: 83.7+ KB\n"
     ]
    }
   ],
   "source": [
    "#metadata of the dataset \n",
    "df.info()"
   ]
  },
  {
   "cell_type": "code",
   "execution_count": 62,
   "id": "b7692ce0",
   "metadata": {},
   "outputs": [],
   "source": [
    "#preproccessing\n",
    "mean_age = round(df['Age'].mean(),2)\n",
    "df['Age'].fillna(mean_age,inplace = True)\n",
    "df.isnull().sum()\n",
    "df.dropna(inplace = True)\n",
    "df.isnull().sum()\n",
    "df.drop(['PassengerId','Ticket','Fare','Name','Cabin'],axis = 1,inplace = True)\n",
    "filter1 = df['Age']<70\n",
    "filter2 = df['Age']>1\n",
    "df = df[filter1 & filter2]"
   ]
  },
  {
   "cell_type": "code",
   "execution_count": 63,
   "id": "a5661778",
   "metadata": {},
   "outputs": [],
   "source": [
    "#coverison of categorical variables to continuos\n",
    "from sklearn.preprocessing import LabelEncoder\n",
    "le = LabelEncoder()\n",
    "df['Sex'] = le.fit_transform(df['Sex'])\n",
    "df['Embarked'] = le.fit_transform(df['Embarked'])\n"
   ]
  },
  {
   "cell_type": "code",
   "execution_count": 64,
   "id": "565c7fbe",
   "metadata": {},
   "outputs": [],
   "source": [
    "#seperating the features and the target variable\n",
    "x = df.drop(['Survived'],axis = 1)\n",
    "y = df['Survived']"
   ]
  },
  {
   "cell_type": "code",
   "execution_count": 65,
   "id": "43564ef2",
   "metadata": {},
   "outputs": [],
   "source": [
    "#splitting the test and train data \n",
    "from sklearn.model_selection import train_test_split\n",
    "xtrain,xtest,ytrain,ytest = train_test_split(x,y,train_size = 0.8,random_state = 0)\n"
   ]
  },
  {
   "cell_type": "code",
   "execution_count": 66,
   "id": "b112c142",
   "metadata": {},
   "outputs": [
    {
     "data": {
      "text/plain": [
       "KNeighborsClassifier(n_neighbors=3)"
      ]
     },
     "execution_count": 66,
     "metadata": {},
     "output_type": "execute_result"
    }
   ],
   "source": [
    "#performing knn classification for k = 3 , euclidian\n",
    "from sklearn.neighbors import KNeighborsClassifier\n",
    "model = KNeighborsClassifier(n_neighbors = 3)\n",
    "model.fit(xtrain,ytrain)"
   ]
  },
  {
   "cell_type": "code",
   "execution_count": 67,
   "id": "607465d0",
   "metadata": {},
   "outputs": [
    {
     "name": "stderr",
     "output_type": "stream",
     "text": [
      "C:\\ProgramData\\Anaconda3\\lib\\site-packages\\sklearn\\neighbors\\_classification.py:228: FutureWarning: Unlike other reduction functions (e.g. `skew`, `kurtosis`), the default behavior of `mode` typically preserves the axis it acts along. In SciPy 1.11.0, this behavior will change: the default value of `keepdims` will become False, the `axis` over which the statistic is taken will be eliminated, and the value None will no longer be accepted. Set `keepdims` to True or False to avoid this warning.\n",
      "  mode, _ = stats.mode(_y[neigh_ind, k], axis=1)\n"
     ]
    }
   ],
   "source": [
    "y_pred = model.predict(xtest)"
   ]
  },
  {
   "cell_type": "code",
   "execution_count": 68,
   "id": "33458d9d",
   "metadata": {},
   "outputs": [
    {
     "data": {
      "text/plain": [
       "array([1, 0, 1, 0, 0, 1, 1, 1, 0, 1, 1, 1, 1, 1, 1, 1, 1, 1, 1, 0, 0, 0,\n",
       "       0, 1, 1, 1, 0, 0, 1, 1, 1, 0, 1, 0, 1, 0, 1, 1, 1, 1], dtype=int64)"
      ]
     },
     "execution_count": 68,
     "metadata": {},
     "output_type": "execute_result"
    }
   ],
   "source": [
    "y_pred"
   ]
  },
  {
   "cell_type": "code",
   "execution_count": 69,
   "id": "441f7fbb",
   "metadata": {},
   "outputs": [
    {
     "data": {
      "text/plain": [
       "505    0\n",
       "62     0\n",
       "796    1\n",
       "339    0\n",
       "690    1\n",
       "303    1\n",
       "539    1\n",
       "839    1\n",
       "438    0\n",
       "102    0\n",
       "27     0\n",
       "21     1\n",
       "724    1\n",
       "730    1\n",
       "879    1\n",
       "748    0\n",
       "332    0\n",
       "310    1\n",
       "585    1\n",
       "740    1\n",
       "248    1\n",
       "453    1\n",
       "185    0\n",
       "556    1\n",
       "621    1\n",
       "618    1\n",
       "711    0\n",
       "92     0\n",
       "591    1\n",
       "498    0\n",
       "205    0\n",
       "782    0\n",
       "572    1\n",
       "124    0\n",
       "577    1\n",
       "815    0\n",
       "11     1\n",
       "806    0\n",
       "340    1\n",
       "434    0\n",
       "Name: Survived, dtype: int64"
      ]
     },
     "execution_count": 69,
     "metadata": {},
     "output_type": "execute_result"
    }
   ],
   "source": [
    "ytest"
   ]
  },
  {
   "cell_type": "code",
   "execution_count": 70,
   "id": "53d38f69",
   "metadata": {},
   "outputs": [
    {
     "name": "stdout",
     "output_type": "stream",
     "text": [
      "[[ 9  9]\n",
      " [ 4 18]]\n",
      "0.675\n"
     ]
    }
   ],
   "source": [
    "#performace analysis for k = 3 , euclidian\n",
    "from sklearn.metrics import confusion_matrix,accuracy_score,recall_score,precision_score,f1_score\n",
    "print(confusion_matrix(ytest,y_pred))\n",
    "print(accuracy_score(ytest,y_pred))\n",
    "ack3e = accuracy_score(ytest,y_pred)"
   ]
  },
  {
   "cell_type": "code",
   "execution_count": 71,
   "id": "09451384",
   "metadata": {},
   "outputs": [
    {
     "data": {
      "text/plain": [
       "KNeighborsClassifier(metric='manhattan', n_neighbors=3)"
      ]
     },
     "execution_count": 71,
     "metadata": {},
     "output_type": "execute_result"
    }
   ],
   "source": [
    "#performing knn for k =3,manhattan\n",
    "model = KNeighborsClassifier(n_neighbors = 3,metric = 'manhattan')\n",
    "model.fit(xtrain,ytrain)"
   ]
  },
  {
   "cell_type": "code",
   "execution_count": 72,
   "id": "4501f108",
   "metadata": {},
   "outputs": [
    {
     "name": "stderr",
     "output_type": "stream",
     "text": [
      "C:\\ProgramData\\Anaconda3\\lib\\site-packages\\sklearn\\neighbors\\_classification.py:228: FutureWarning: Unlike other reduction functions (e.g. `skew`, `kurtosis`), the default behavior of `mode` typically preserves the axis it acts along. In SciPy 1.11.0, this behavior will change: the default value of `keepdims` will become False, the `axis` over which the statistic is taken will be eliminated, and the value None will no longer be accepted. Set `keepdims` to True or False to avoid this warning.\n",
      "  mode, _ = stats.mode(_y[neigh_ind, k], axis=1)\n"
     ]
    },
    {
     "data": {
      "text/plain": [
       "array([1, 0, 1, 0, 0, 1, 1, 0, 0, 1, 1, 1, 1, 1, 1, 1, 1, 1, 1, 0, 0, 0,\n",
       "       0, 1, 0, 1, 0, 0, 1, 1, 1, 0, 1, 0, 1, 0, 1, 1, 1, 1], dtype=int64)"
      ]
     },
     "execution_count": 72,
     "metadata": {},
     "output_type": "execute_result"
    }
   ],
   "source": [
    "y_pred1 = model.predict(xtest)\n",
    "y_pred1\n"
   ]
  },
  {
   "cell_type": "code",
   "execution_count": 73,
   "id": "219363cc",
   "metadata": {},
   "outputs": [
    {
     "data": {
      "text/plain": [
       "505    0\n",
       "62     0\n",
       "796    1\n",
       "339    0\n",
       "690    1\n",
       "303    1\n",
       "539    1\n",
       "839    1\n",
       "438    0\n",
       "102    0\n",
       "27     0\n",
       "21     1\n",
       "724    1\n",
       "730    1\n",
       "879    1\n",
       "748    0\n",
       "332    0\n",
       "310    1\n",
       "585    1\n",
       "740    1\n",
       "248    1\n",
       "453    1\n",
       "185    0\n",
       "556    1\n",
       "621    1\n",
       "618    1\n",
       "711    0\n",
       "92     0\n",
       "591    1\n",
       "498    0\n",
       "205    0\n",
       "782    0\n",
       "572    1\n",
       "124    0\n",
       "577    1\n",
       "815    0\n",
       "11     1\n",
       "806    0\n",
       "340    1\n",
       "434    0\n",
       "Name: Survived, dtype: int64"
      ]
     },
     "execution_count": 73,
     "metadata": {},
     "output_type": "execute_result"
    }
   ],
   "source": [
    "ytest"
   ]
  },
  {
   "cell_type": "code",
   "execution_count": 74,
   "id": "3a123662",
   "metadata": {},
   "outputs": [
    {
     "name": "stdout",
     "output_type": "stream",
     "text": [
      "[[ 9  9]\n",
      " [ 6 16]]\n",
      "0.625\n"
     ]
    }
   ],
   "source": [
    "#performance analysis for k = 3, manhattan\n",
    "print(confusion_matrix(ytest,y_pred1))\n",
    "print(accuracy_score(ytest,y_pred1))\n",
    "ack3m = accuracy_score(ytest,y_pred1)"
   ]
  },
  {
   "cell_type": "code",
   "execution_count": 75,
   "id": "2a9e88d6",
   "metadata": {},
   "outputs": [
    {
     "data": {
      "text/plain": [
       "KNeighborsClassifier(metric='jaccard', n_neighbors=3)"
      ]
     },
     "execution_count": 75,
     "metadata": {},
     "output_type": "execute_result"
    }
   ],
   "source": [
    "#performing knn for k = 3, jaccard\n",
    "model = KNeighborsClassifier(n_neighbors = 3,metric = 'jaccard')\n",
    "model.fit(xtrain,ytrain)"
   ]
  },
  {
   "cell_type": "code",
   "execution_count": 76,
   "id": "4ffa00ce",
   "metadata": {},
   "outputs": [
    {
     "name": "stderr",
     "output_type": "stream",
     "text": [
      "C:\\ProgramData\\Anaconda3\\lib\\site-packages\\sklearn\\neighbors\\_classification.py:228: FutureWarning: Unlike other reduction functions (e.g. `skew`, `kurtosis`), the default behavior of `mode` typically preserves the axis it acts along. In SciPy 1.11.0, this behavior will change: the default value of `keepdims` will become False, the `axis` over which the statistic is taken will be eliminated, and the value None will no longer be accepted. Set `keepdims` to True or False to avoid this warning.\n",
      "  mode, _ = stats.mode(_y[neigh_ind, k], axis=1)\n"
     ]
    }
   ],
   "source": [
    "y_pred2 = model.predict(xtest)"
   ]
  },
  {
   "cell_type": "code",
   "execution_count": 77,
   "id": "fe4c1f4c",
   "metadata": {},
   "outputs": [
    {
     "data": {
      "text/plain": [
       "array([1, 0, 1, 0, 0, 1, 1, 1, 1, 1, 1, 0, 0, 1, 1, 0, 1, 1, 1, 0, 1, 1,\n",
       "       0, 1, 0, 1, 0, 0, 1, 1, 1, 0, 0, 1, 1, 0, 1, 0, 1, 0], dtype=int64)"
      ]
     },
     "execution_count": 77,
     "metadata": {},
     "output_type": "execute_result"
    }
   ],
   "source": [
    "y_pred2"
   ]
  },
  {
   "cell_type": "code",
   "execution_count": 78,
   "id": "243602cd",
   "metadata": {},
   "outputs": [
    {
     "data": {
      "text/plain": [
       "505    0\n",
       "62     0\n",
       "796    1\n",
       "339    0\n",
       "690    1\n",
       "303    1\n",
       "539    1\n",
       "839    1\n",
       "438    0\n",
       "102    0\n",
       "27     0\n",
       "21     1\n",
       "724    1\n",
       "730    1\n",
       "879    1\n",
       "748    0\n",
       "332    0\n",
       "310    1\n",
       "585    1\n",
       "740    1\n",
       "248    1\n",
       "453    1\n",
       "185    0\n",
       "556    1\n",
       "621    1\n",
       "618    1\n",
       "711    0\n",
       "92     0\n",
       "591    1\n",
       "498    0\n",
       "205    0\n",
       "782    0\n",
       "572    1\n",
       "124    0\n",
       "577    1\n",
       "815    0\n",
       "11     1\n",
       "806    0\n",
       "340    1\n",
       "434    0\n",
       "Name: Survived, dtype: int64"
      ]
     },
     "execution_count": 78,
     "metadata": {},
     "output_type": "execute_result"
    }
   ],
   "source": [
    "ytest"
   ]
  },
  {
   "cell_type": "code",
   "execution_count": 79,
   "id": "5d7ebc77",
   "metadata": {},
   "outputs": [
    {
     "name": "stdout",
     "output_type": "stream",
     "text": [
      "[[10  8]\n",
      " [ 6 16]]\n",
      "0.65\n"
     ]
    }
   ],
   "source": [
    "#performance analysis of k = 3, jaccard\n",
    "print(confusion_matrix(ytest,y_pred2))\n",
    "print(accuracy_score(ytest,y_pred2))\n",
    "ack3j = accuracy_score(ytest,y_pred2)"
   ]
  },
  {
   "cell_type": "code",
   "execution_count": 80,
   "id": "f2c8c8b6",
   "metadata": {},
   "outputs": [
    {
     "data": {
      "text/plain": [
       "KNeighborsClassifier(metric='cosine', n_neighbors=3)"
      ]
     },
     "execution_count": 80,
     "metadata": {},
     "output_type": "execute_result"
    }
   ],
   "source": [
    "#performing knn for k = 3, cosine\n",
    "model = KNeighborsClassifier(n_neighbors = 3, metric = 'cosine')\n",
    "model.fit(xtrain,ytrain)"
   ]
  },
  {
   "cell_type": "code",
   "execution_count": 81,
   "id": "0e8dacb5",
   "metadata": {},
   "outputs": [
    {
     "name": "stderr",
     "output_type": "stream",
     "text": [
      "C:\\ProgramData\\Anaconda3\\lib\\site-packages\\sklearn\\neighbors\\_classification.py:228: FutureWarning: Unlike other reduction functions (e.g. `skew`, `kurtosis`), the default behavior of `mode` typically preserves the axis it acts along. In SciPy 1.11.0, this behavior will change: the default value of `keepdims` will become False, the `axis` over which the statistic is taken will be eliminated, and the value None will no longer be accepted. Set `keepdims` to True or False to avoid this warning.\n",
      "  mode, _ = stats.mode(_y[neigh_ind, k], axis=1)\n"
     ]
    }
   ],
   "source": [
    "y_pred4 = model.predict(xtest)"
   ]
  },
  {
   "cell_type": "code",
   "execution_count": 82,
   "id": "af898123",
   "metadata": {},
   "outputs": [
    {
     "data": {
      "text/plain": [
       "array([1, 1, 1, 0, 0, 1, 1, 1, 1, 1, 1, 0, 0, 1, 1, 0, 0, 1, 1, 0, 0, 1,\n",
       "       0, 1, 1, 1, 0, 1, 1, 1, 1, 0, 1, 0, 1, 0, 1, 1, 1, 1], dtype=int64)"
      ]
     },
     "execution_count": 82,
     "metadata": {},
     "output_type": "execute_result"
    }
   ],
   "source": [
    "y_pred4"
   ]
  },
  {
   "cell_type": "code",
   "execution_count": 83,
   "id": "c4e49a03",
   "metadata": {},
   "outputs": [
    {
     "data": {
      "text/plain": [
       "505    0\n",
       "62     0\n",
       "796    1\n",
       "339    0\n",
       "690    1\n",
       "303    1\n",
       "539    1\n",
       "839    1\n",
       "438    0\n",
       "102    0\n",
       "27     0\n",
       "21     1\n",
       "724    1\n",
       "730    1\n",
       "879    1\n",
       "748    0\n",
       "332    0\n",
       "310    1\n",
       "585    1\n",
       "740    1\n",
       "248    1\n",
       "453    1\n",
       "185    0\n",
       "556    1\n",
       "621    1\n",
       "618    1\n",
       "711    0\n",
       "92     0\n",
       "591    1\n",
       "498    0\n",
       "205    0\n",
       "782    0\n",
       "572    1\n",
       "124    0\n",
       "577    1\n",
       "815    0\n",
       "11     1\n",
       "806    0\n",
       "340    1\n",
       "434    0\n",
       "Name: Survived, dtype: int64"
      ]
     },
     "execution_count": 83,
     "metadata": {},
     "output_type": "execute_result"
    }
   ],
   "source": [
    "ytest"
   ]
  },
  {
   "cell_type": "code",
   "execution_count": 84,
   "id": "e893cf13",
   "metadata": {},
   "outputs": [
    {
     "name": "stdout",
     "output_type": "stream",
     "text": [
      "[[ 8 10]\n",
      " [ 5 17]]\n",
      "0.625\n"
     ]
    }
   ],
   "source": [
    "print(confusion_matrix(ytest,y_pred4))\n",
    "print(accuracy_score(ytest,y_pred4))\n",
    "ack3c = accuracy_score(ytest,y_pred4)"
   ]
  },
  {
   "cell_type": "code",
   "execution_count": 85,
   "id": "6418bfa3",
   "metadata": {},
   "outputs": [
    {
     "data": {
      "text/plain": [
       "KNeighborsClassifier(n_neighbors=2)"
      ]
     },
     "execution_count": 85,
     "metadata": {},
     "output_type": "execute_result"
    }
   ],
   "source": [
    "#knn for k = 2,Euclidian\n",
    "model2= KNeighborsClassifier(n_neighbors =2)\n",
    "model2.fit(xtrain,ytrain)"
   ]
  },
  {
   "cell_type": "code",
   "execution_count": 86,
   "id": "a7984e0a",
   "metadata": {},
   "outputs": [
    {
     "name": "stderr",
     "output_type": "stream",
     "text": [
      "C:\\ProgramData\\Anaconda3\\lib\\site-packages\\sklearn\\neighbors\\_classification.py:228: FutureWarning: Unlike other reduction functions (e.g. `skew`, `kurtosis`), the default behavior of `mode` typically preserves the axis it acts along. In SciPy 1.11.0, this behavior will change: the default value of `keepdims` will become False, the `axis` over which the statistic is taken will be eliminated, and the value None will no longer be accepted. Set `keepdims` to True or False to avoid this warning.\n",
      "  mode, _ = stats.mode(_y[neigh_ind, k], axis=1)\n"
     ]
    }
   ],
   "source": [
    "ypred2= model.predict(xtest)"
   ]
  },
  {
   "cell_type": "code",
   "execution_count": 87,
   "id": "202f4c40",
   "metadata": {},
   "outputs": [
    {
     "data": {
      "text/plain": [
       "array([1, 1, 1, 0, 0, 1, 1, 1, 1, 1, 1, 0, 0, 1, 1, 0, 0, 1, 1, 0, 0, 1,\n",
       "       0, 1, 1, 1, 0, 1, 1, 1, 1, 0, 1, 0, 1, 0, 1, 1, 1, 1], dtype=int64)"
      ]
     },
     "execution_count": 87,
     "metadata": {},
     "output_type": "execute_result"
    }
   ],
   "source": [
    "ypred2\n"
   ]
  },
  {
   "cell_type": "code",
   "execution_count": 88,
   "id": "abc6552b",
   "metadata": {},
   "outputs": [
    {
     "data": {
      "text/plain": [
       "505    0\n",
       "62     0\n",
       "796    1\n",
       "339    0\n",
       "690    1\n",
       "303    1\n",
       "539    1\n",
       "839    1\n",
       "438    0\n",
       "102    0\n",
       "27     0\n",
       "21     1\n",
       "724    1\n",
       "730    1\n",
       "879    1\n",
       "748    0\n",
       "332    0\n",
       "310    1\n",
       "585    1\n",
       "740    1\n",
       "248    1\n",
       "453    1\n",
       "185    0\n",
       "556    1\n",
       "621    1\n",
       "618    1\n",
       "711    0\n",
       "92     0\n",
       "591    1\n",
       "498    0\n",
       "205    0\n",
       "782    0\n",
       "572    1\n",
       "124    0\n",
       "577    1\n",
       "815    0\n",
       "11     1\n",
       "806    0\n",
       "340    1\n",
       "434    0\n",
       "Name: Survived, dtype: int64"
      ]
     },
     "execution_count": 88,
     "metadata": {},
     "output_type": "execute_result"
    }
   ],
   "source": [
    "ytest"
   ]
  },
  {
   "cell_type": "code",
   "execution_count": 89,
   "id": "1078b364",
   "metadata": {},
   "outputs": [
    {
     "name": "stdout",
     "output_type": "stream",
     "text": [
      "[[ 8 10]\n",
      " [ 5 17]]\n",
      "0.625\n"
     ]
    }
   ],
   "source": [
    "#performance analysis for k = 2,Euclidean\n",
    "print(confusion_matrix(ytest,ypred2))\n",
    "print(accuracy_score(ytest,ypred2))\n",
    "ack2e = accuracy_score(ytest,ypred2)"
   ]
  },
  {
   "cell_type": "code",
   "execution_count": 90,
   "id": "bf375304",
   "metadata": {},
   "outputs": [
    {
     "data": {
      "text/plain": [
       "KNeighborsClassifier(metric='manhattan', n_neighbors=2)"
      ]
     },
     "execution_count": 90,
     "metadata": {},
     "output_type": "execute_result"
    }
   ],
   "source": [
    "#performing knn for k =2,manhattan\n",
    "model2 = KNeighborsClassifier(n_neighbors = 2, metric = 'manhattan')\n",
    "model2.fit(xtrain,ytrain)"
   ]
  },
  {
   "cell_type": "code",
   "execution_count": 91,
   "id": "4880d413",
   "metadata": {},
   "outputs": [
    {
     "name": "stderr",
     "output_type": "stream",
     "text": [
      "C:\\ProgramData\\Anaconda3\\lib\\site-packages\\sklearn\\neighbors\\_classification.py:228: FutureWarning: Unlike other reduction functions (e.g. `skew`, `kurtosis`), the default behavior of `mode` typically preserves the axis it acts along. In SciPy 1.11.0, this behavior will change: the default value of `keepdims` will become False, the `axis` over which the statistic is taken will be eliminated, and the value None will no longer be accepted. Set `keepdims` to True or False to avoid this warning.\n",
      "  mode, _ = stats.mode(_y[neigh_ind, k], axis=1)\n"
     ]
    },
    {
     "data": {
      "text/plain": [
       "array([1, 0, 1, 0, 0, 0, 1, 0, 0, 1, 1, 1, 1, 1, 0, 0, 1, 1, 1, 0, 0, 0,\n",
       "       0, 1, 0, 1, 0, 0, 1, 1, 1, 0, 1, 0, 1, 0, 0, 0, 0, 0], dtype=int64)"
      ]
     },
     "execution_count": 91,
     "metadata": {},
     "output_type": "execute_result"
    }
   ],
   "source": [
    "ypred2m = model2.predict(xtest)\n",
    "ypred2m"
   ]
  },
  {
   "cell_type": "code",
   "execution_count": 92,
   "id": "bd1edb99",
   "metadata": {},
   "outputs": [
    {
     "data": {
      "text/plain": [
       "505    0\n",
       "62     0\n",
       "796    1\n",
       "339    0\n",
       "690    1\n",
       "303    1\n",
       "539    1\n",
       "839    1\n",
       "438    0\n",
       "102    0\n",
       "27     0\n",
       "21     1\n",
       "724    1\n",
       "730    1\n",
       "879    1\n",
       "748    0\n",
       "332    0\n",
       "310    1\n",
       "585    1\n",
       "740    1\n",
       "248    1\n",
       "453    1\n",
       "185    0\n",
       "556    1\n",
       "621    1\n",
       "618    1\n",
       "711    0\n",
       "92     0\n",
       "591    1\n",
       "498    0\n",
       "205    0\n",
       "782    0\n",
       "572    1\n",
       "124    0\n",
       "577    1\n",
       "815    0\n",
       "11     1\n",
       "806    0\n",
       "340    1\n",
       "434    0\n",
       "Name: Survived, dtype: int64"
      ]
     },
     "execution_count": 92,
     "metadata": {},
     "output_type": "execute_result"
    }
   ],
   "source": [
    "ytest"
   ]
  },
  {
   "cell_type": "code",
   "execution_count": 93,
   "id": "d03e2049",
   "metadata": {},
   "outputs": [
    {
     "name": "stdout",
     "output_type": "stream",
     "text": [
      "[[12  6]\n",
      " [10 12]]\n",
      "0.6\n"
     ]
    }
   ],
   "source": [
    "#performance analysis for k = 2 , manhattan\n",
    "print(confusion_matrix(ytest,ypred2m))\n",
    "print(accuracy_score(ytest,ypred2m))\n",
    "ack2m = accuracy_score(ytest,ypred2m)"
   ]
  },
  {
   "cell_type": "code",
   "execution_count": 94,
   "id": "12914ec7",
   "metadata": {},
   "outputs": [
    {
     "data": {
      "text/plain": [
       "KNeighborsClassifier(metric='jaccard', n_neighbors=2)"
      ]
     },
     "execution_count": 94,
     "metadata": {},
     "output_type": "execute_result"
    }
   ],
   "source": [
    "#performing knn for k = 2, jaccard\n",
    "model2 = KNeighborsClassifier(n_neighbors = 2, metric = 'jaccard')\n",
    "model2.fit(xtrain,ytrain)"
   ]
  },
  {
   "cell_type": "code",
   "execution_count": 95,
   "id": "eea4c294",
   "metadata": {},
   "outputs": [
    {
     "name": "stderr",
     "output_type": "stream",
     "text": [
      "C:\\ProgramData\\Anaconda3\\lib\\site-packages\\sklearn\\neighbors\\_classification.py:228: FutureWarning: Unlike other reduction functions (e.g. `skew`, `kurtosis`), the default behavior of `mode` typically preserves the axis it acts along. In SciPy 1.11.0, this behavior will change: the default value of `keepdims` will become False, the `axis` over which the statistic is taken will be eliminated, and the value None will no longer be accepted. Set `keepdims` to True or False to avoid this warning.\n",
      "  mode, _ = stats.mode(_y[neigh_ind, k], axis=1)\n"
     ]
    },
    {
     "data": {
      "text/plain": [
       "array([1, 0, 1, 0, 0, 1, 1, 0, 1, 1, 1, 0, 0, 1, 1, 0, 1, 1, 1, 0, 1, 1,\n",
       "       0, 1, 0, 1, 0, 0, 1, 1, 1, 0, 0, 1, 1, 0, 1, 0, 1, 0], dtype=int64)"
      ]
     },
     "execution_count": 95,
     "metadata": {},
     "output_type": "execute_result"
    }
   ],
   "source": [
    "ypred2j = model2.predict(xtest)\n",
    "ypred2j"
   ]
  },
  {
   "cell_type": "code",
   "execution_count": 96,
   "id": "c3572035",
   "metadata": {},
   "outputs": [
    {
     "data": {
      "text/plain": [
       "505    0\n",
       "62     0\n",
       "796    1\n",
       "339    0\n",
       "690    1\n",
       "303    1\n",
       "539    1\n",
       "839    1\n",
       "438    0\n",
       "102    0\n",
       "27     0\n",
       "21     1\n",
       "724    1\n",
       "730    1\n",
       "879    1\n",
       "748    0\n",
       "332    0\n",
       "310    1\n",
       "585    1\n",
       "740    1\n",
       "248    1\n",
       "453    1\n",
       "185    0\n",
       "556    1\n",
       "621    1\n",
       "618    1\n",
       "711    0\n",
       "92     0\n",
       "591    1\n",
       "498    0\n",
       "205    0\n",
       "782    0\n",
       "572    1\n",
       "124    0\n",
       "577    1\n",
       "815    0\n",
       "11     1\n",
       "806    0\n",
       "340    1\n",
       "434    0\n",
       "Name: Survived, dtype: int64"
      ]
     },
     "execution_count": 96,
     "metadata": {},
     "output_type": "execute_result"
    }
   ],
   "source": [
    "ytest\n"
   ]
  },
  {
   "cell_type": "code",
   "execution_count": 97,
   "id": "b1d2d47c",
   "metadata": {},
   "outputs": [
    {
     "name": "stdout",
     "output_type": "stream",
     "text": [
      "[[10  8]\n",
      " [ 7 15]]\n",
      "0.625\n"
     ]
    }
   ],
   "source": [
    "#performance analysis for k = 2 , jaccard\n",
    "print(confusion_matrix(ytest,ypred2j))\n",
    "print(accuracy_score(ytest,ypred2j))\n",
    "ack2j = accuracy_score(ytest,ypred2j)"
   ]
  },
  {
   "cell_type": "code",
   "execution_count": 98,
   "id": "32a74dc9",
   "metadata": {},
   "outputs": [
    {
     "data": {
      "text/plain": [
       "KNeighborsClassifier(metric='cosine', n_neighbors=2)"
      ]
     },
     "execution_count": 98,
     "metadata": {},
     "output_type": "execute_result"
    }
   ],
   "source": [
    "#performing knn for k = 2 , cosine \n",
    "model2 = KNeighborsClassifier(n_neighbors = 2,metric = 'cosine')\n",
    "model2.fit(xtrain,ytrain)"
   ]
  },
  {
   "cell_type": "code",
   "execution_count": 99,
   "id": "3a67337c",
   "metadata": {},
   "outputs": [
    {
     "name": "stderr",
     "output_type": "stream",
     "text": [
      "C:\\ProgramData\\Anaconda3\\lib\\site-packages\\sklearn\\neighbors\\_classification.py:228: FutureWarning: Unlike other reduction functions (e.g. `skew`, `kurtosis`), the default behavior of `mode` typically preserves the axis it acts along. In SciPy 1.11.0, this behavior will change: the default value of `keepdims` will become False, the `axis` over which the statistic is taken will be eliminated, and the value None will no longer be accepted. Set `keepdims` to True or False to avoid this warning.\n",
      "  mode, _ = stats.mode(_y[neigh_ind, k], axis=1)\n"
     ]
    }
   ],
   "source": [
    "ypred2c = model2.predict(xtest)"
   ]
  },
  {
   "cell_type": "code",
   "execution_count": 100,
   "id": "28e996a5",
   "metadata": {},
   "outputs": [
    {
     "data": {
      "text/plain": [
       "array([1, 1, 1, 0, 0, 1, 0, 0, 1, 0, 1, 0, 0, 1, 1, 0, 0, 1, 1, 0, 0, 0,\n",
       "       0, 1, 1, 1, 0, 1, 1, 1, 1, 0, 1, 0, 1, 0, 0, 0, 1, 1], dtype=int64)"
      ]
     },
     "execution_count": 100,
     "metadata": {},
     "output_type": "execute_result"
    }
   ],
   "source": [
    "ypred2c\n"
   ]
  },
  {
   "cell_type": "code",
   "execution_count": 101,
   "id": "59ad7f0b",
   "metadata": {},
   "outputs": [
    {
     "data": {
      "text/plain": [
       "505    0\n",
       "62     0\n",
       "796    1\n",
       "339    0\n",
       "690    1\n",
       "303    1\n",
       "539    1\n",
       "839    1\n",
       "438    0\n",
       "102    0\n",
       "27     0\n",
       "21     1\n",
       "724    1\n",
       "730    1\n",
       "879    1\n",
       "748    0\n",
       "332    0\n",
       "310    1\n",
       "585    1\n",
       "740    1\n",
       "248    1\n",
       "453    1\n",
       "185    0\n",
       "556    1\n",
       "621    1\n",
       "618    1\n",
       "711    0\n",
       "92     0\n",
       "591    1\n",
       "498    0\n",
       "205    0\n",
       "782    0\n",
       "572    1\n",
       "124    0\n",
       "577    1\n",
       "815    0\n",
       "11     1\n",
       "806    0\n",
       "340    1\n",
       "434    0\n",
       "Name: Survived, dtype: int64"
      ]
     },
     "execution_count": 101,
     "metadata": {},
     "output_type": "execute_result"
    }
   ],
   "source": [
    "ytest"
   ]
  },
  {
   "cell_type": "code",
   "execution_count": 102,
   "id": "98bb0690",
   "metadata": {},
   "outputs": [
    {
     "name": "stdout",
     "output_type": "stream",
     "text": [
      "[[10  8]\n",
      " [ 9 13]]\n",
      "0.575\n"
     ]
    }
   ],
   "source": [
    "#performance analysis of k =3, cosine\n",
    "print(confusion_matrix(ytest,ypred2c))\n",
    "print(accuracy_score(ytest,ypred2c))\n",
    "ack2c = accuracy_score(ytest,ypred2c)"
   ]
  },
  {
   "cell_type": "code",
   "execution_count": 103,
   "id": "42ee9d9d",
   "metadata": {},
   "outputs": [
    {
     "data": {
      "text/plain": [
       "KNeighborsClassifier(n_neighbors=1)"
      ]
     },
     "execution_count": 103,
     "metadata": {},
     "output_type": "execute_result"
    }
   ],
   "source": [
    "#knn for k = 1,euclidian \n",
    "model3 = KNeighborsClassifier(n_neighbors = 1)   \n",
    "model3.fit(xtrain,ytrain)"
   ]
  },
  {
   "cell_type": "code",
   "execution_count": 104,
   "id": "3f013653",
   "metadata": {},
   "outputs": [
    {
     "name": "stderr",
     "output_type": "stream",
     "text": [
      "C:\\ProgramData\\Anaconda3\\lib\\site-packages\\sklearn\\neighbors\\_classification.py:228: FutureWarning: Unlike other reduction functions (e.g. `skew`, `kurtosis`), the default behavior of `mode` typically preserves the axis it acts along. In SciPy 1.11.0, this behavior will change: the default value of `keepdims` will become False, the `axis` over which the statistic is taken will be eliminated, and the value None will no longer be accepted. Set `keepdims` to True or False to avoid this warning.\n",
      "  mode, _ = stats.mode(_y[neigh_ind, k], axis=1)\n"
     ]
    }
   ],
   "source": [
    "ypred3 = model3.predict(xtest)"
   ]
  },
  {
   "cell_type": "code",
   "execution_count": 105,
   "id": "06b187b1",
   "metadata": {},
   "outputs": [
    {
     "data": {
      "text/plain": [
       "array([1, 0, 1, 0, 0, 1, 1, 0, 0, 1, 1, 1, 1, 1, 0, 1, 1, 1, 1, 0, 0, 1,\n",
       "       0, 1, 1, 1, 0, 0, 1, 1, 1, 0, 1, 0, 1, 0, 1, 0, 1, 1], dtype=int64)"
      ]
     },
     "execution_count": 105,
     "metadata": {},
     "output_type": "execute_result"
    }
   ],
   "source": [
    "ypred3"
   ]
  },
  {
   "cell_type": "code",
   "execution_count": 106,
   "id": "bdf77193",
   "metadata": {},
   "outputs": [
    {
     "data": {
      "text/plain": [
       "505    0\n",
       "62     0\n",
       "796    1\n",
       "339    0\n",
       "690    1\n",
       "303    1\n",
       "539    1\n",
       "839    1\n",
       "438    0\n",
       "102    0\n",
       "27     0\n",
       "21     1\n",
       "724    1\n",
       "730    1\n",
       "879    1\n",
       "748    0\n",
       "332    0\n",
       "310    1\n",
       "585    1\n",
       "740    1\n",
       "248    1\n",
       "453    1\n",
       "185    0\n",
       "556    1\n",
       "621    1\n",
       "618    1\n",
       "711    0\n",
       "92     0\n",
       "591    1\n",
       "498    0\n",
       "205    0\n",
       "782    0\n",
       "572    1\n",
       "124    0\n",
       "577    1\n",
       "815    0\n",
       "11     1\n",
       "806    0\n",
       "340    1\n",
       "434    0\n",
       "Name: Survived, dtype: int64"
      ]
     },
     "execution_count": 106,
     "metadata": {},
     "output_type": "execute_result"
    }
   ],
   "source": [
    "ytest\n"
   ]
  },
  {
   "cell_type": "code",
   "execution_count": 107,
   "id": "4fc4814c",
   "metadata": {},
   "outputs": [
    {
     "name": "stdout",
     "output_type": "stream",
     "text": [
      "[[10  8]\n",
      " [ 5 17]]\n",
      "0.675\n"
     ]
    }
   ],
   "source": [
    "#performance analysis for k = 1\n",
    "print(confusion_matrix(ytest,ypred3))\n",
    "print(accuracy_score(ytest,ypred3))\n",
    "ack1e = accuracy_score(ytest,ypred3)"
   ]
  },
  {
   "cell_type": "code",
   "execution_count": 108,
   "id": "a5672ea3",
   "metadata": {},
   "outputs": [
    {
     "data": {
      "text/plain": [
       "KNeighborsClassifier(metric='manhattan', n_neighbors=1)"
      ]
     },
     "execution_count": 108,
     "metadata": {},
     "output_type": "execute_result"
    }
   ],
   "source": [
    "#knn for k =1, manhattan \n",
    "model3 = KNeighborsClassifier(n_neighbors = 1,metric = 'manhattan')   \n",
    "model3.fit(xtrain,ytrain)"
   ]
  },
  {
   "cell_type": "code",
   "execution_count": 109,
   "id": "1d1e0f9f",
   "metadata": {},
   "outputs": [
    {
     "name": "stderr",
     "output_type": "stream",
     "text": [
      "C:\\ProgramData\\Anaconda3\\lib\\site-packages\\sklearn\\neighbors\\_classification.py:228: FutureWarning: Unlike other reduction functions (e.g. `skew`, `kurtosis`), the default behavior of `mode` typically preserves the axis it acts along. In SciPy 1.11.0, this behavior will change: the default value of `keepdims` will become False, the `axis` over which the statistic is taken will be eliminated, and the value None will no longer be accepted. Set `keepdims` to True or False to avoid this warning.\n",
      "  mode, _ = stats.mode(_y[neigh_ind, k], axis=1)\n"
     ]
    }
   ],
   "source": [
    "ypred3m = model3.predict(xtest)"
   ]
  },
  {
   "cell_type": "code",
   "execution_count": 110,
   "id": "4461241a",
   "metadata": {},
   "outputs": [
    {
     "data": {
      "text/plain": [
       "array([1, 0, 1, 0, 0, 1, 1, 0, 0, 1, 1, 1, 1, 1, 0, 1, 1, 1, 1, 0, 0, 1,\n",
       "       0, 1, 1, 1, 0, 0, 1, 1, 1, 0, 1, 0, 1, 0, 1, 0, 1, 1], dtype=int64)"
      ]
     },
     "execution_count": 110,
     "metadata": {},
     "output_type": "execute_result"
    }
   ],
   "source": [
    "ypred3m"
   ]
  },
  {
   "cell_type": "code",
   "execution_count": 111,
   "id": "f8bde70f",
   "metadata": {},
   "outputs": [
    {
     "data": {
      "text/plain": [
       "505    0\n",
       "62     0\n",
       "796    1\n",
       "339    0\n",
       "690    1\n",
       "303    1\n",
       "539    1\n",
       "839    1\n",
       "438    0\n",
       "102    0\n",
       "27     0\n",
       "21     1\n",
       "724    1\n",
       "730    1\n",
       "879    1\n",
       "748    0\n",
       "332    0\n",
       "310    1\n",
       "585    1\n",
       "740    1\n",
       "248    1\n",
       "453    1\n",
       "185    0\n",
       "556    1\n",
       "621    1\n",
       "618    1\n",
       "711    0\n",
       "92     0\n",
       "591    1\n",
       "498    0\n",
       "205    0\n",
       "782    0\n",
       "572    1\n",
       "124    0\n",
       "577    1\n",
       "815    0\n",
       "11     1\n",
       "806    0\n",
       "340    1\n",
       "434    0\n",
       "Name: Survived, dtype: int64"
      ]
     },
     "execution_count": 111,
     "metadata": {},
     "output_type": "execute_result"
    }
   ],
   "source": [
    "ytest"
   ]
  },
  {
   "cell_type": "code",
   "execution_count": 112,
   "id": "a9dd91b4",
   "metadata": {},
   "outputs": [
    {
     "name": "stdout",
     "output_type": "stream",
     "text": [
      "[[10  8]\n",
      " [ 5 17]]\n",
      "0.675\n"
     ]
    }
   ],
   "source": [
    "#performance analysis of k =1 ,  manhattan\n",
    "print(confusion_matrix(ytest,ypred3m))\n",
    "print(accuracy_score(ytest,ypred3m))\n",
    "ack1m = accuracy_score(ytest,ypred3m)"
   ]
  },
  {
   "cell_type": "code",
   "execution_count": 113,
   "id": "595d5225",
   "metadata": {},
   "outputs": [
    {
     "data": {
      "text/plain": [
       "KNeighborsClassifier(metric='jaccard', n_neighbors=1)"
      ]
     },
     "execution_count": 113,
     "metadata": {},
     "output_type": "execute_result"
    }
   ],
   "source": [
    "#knn for k =1 , jaccard\n",
    "model3 = KNeighborsClassifier(n_neighbors = 1,metric = 'jaccard')   \n",
    "model3.fit(xtrain,ytrain)"
   ]
  },
  {
   "cell_type": "code",
   "execution_count": 114,
   "id": "c2dc3a1f",
   "metadata": {},
   "outputs": [
    {
     "name": "stderr",
     "output_type": "stream",
     "text": [
      "C:\\ProgramData\\Anaconda3\\lib\\site-packages\\sklearn\\neighbors\\_classification.py:228: FutureWarning: Unlike other reduction functions (e.g. `skew`, `kurtosis`), the default behavior of `mode` typically preserves the axis it acts along. In SciPy 1.11.0, this behavior will change: the default value of `keepdims` will become False, the `axis` over which the statistic is taken will be eliminated, and the value None will no longer be accepted. Set `keepdims` to True or False to avoid this warning.\n",
      "  mode, _ = stats.mode(_y[neigh_ind, k], axis=1)\n"
     ]
    }
   ],
   "source": [
    "ypred3j = model3.predict(xtest)"
   ]
  },
  {
   "cell_type": "code",
   "execution_count": 115,
   "id": "eab80ba9",
   "metadata": {},
   "outputs": [
    {
     "data": {
      "text/plain": [
       "array([1, 0, 1, 0, 0, 1, 1, 0, 1, 1, 1, 0, 0, 1, 1, 0, 1, 1, 1, 0, 1, 1,\n",
       "       0, 1, 0, 1, 0, 0, 1, 1, 1, 0, 0, 1, 1, 0, 1, 0, 1, 0], dtype=int64)"
      ]
     },
     "execution_count": 115,
     "metadata": {},
     "output_type": "execute_result"
    }
   ],
   "source": [
    "ypred3j"
   ]
  },
  {
   "cell_type": "code",
   "execution_count": 116,
   "id": "266185d0",
   "metadata": {},
   "outputs": [
    {
     "data": {
      "text/plain": [
       "505    0\n",
       "62     0\n",
       "796    1\n",
       "339    0\n",
       "690    1\n",
       "303    1\n",
       "539    1\n",
       "839    1\n",
       "438    0\n",
       "102    0\n",
       "27     0\n",
       "21     1\n",
       "724    1\n",
       "730    1\n",
       "879    1\n",
       "748    0\n",
       "332    0\n",
       "310    1\n",
       "585    1\n",
       "740    1\n",
       "248    1\n",
       "453    1\n",
       "185    0\n",
       "556    1\n",
       "621    1\n",
       "618    1\n",
       "711    0\n",
       "92     0\n",
       "591    1\n",
       "498    0\n",
       "205    0\n",
       "782    0\n",
       "572    1\n",
       "124    0\n",
       "577    1\n",
       "815    0\n",
       "11     1\n",
       "806    0\n",
       "340    1\n",
       "434    0\n",
       "Name: Survived, dtype: int64"
      ]
     },
     "execution_count": 116,
     "metadata": {},
     "output_type": "execute_result"
    }
   ],
   "source": [
    "ytest"
   ]
  },
  {
   "cell_type": "code",
   "execution_count": 117,
   "id": "97446e0c",
   "metadata": {},
   "outputs": [
    {
     "name": "stdout",
     "output_type": "stream",
     "text": [
      "[[10  8]\n",
      " [ 7 15]]\n",
      "0.625\n"
     ]
    }
   ],
   "source": [
    "#performance analysis for k = 1, jaccard\n",
    "print(confusion_matrix(ytest,ypred3j))\n",
    "print(accuracy_score(ytest,ypred3j))\n",
    "ack1j = accuracy_score(ytest,ypred3j)"
   ]
  },
  {
   "cell_type": "code",
   "execution_count": 118,
   "id": "f2aca129",
   "metadata": {},
   "outputs": [
    {
     "data": {
      "text/plain": [
       "KNeighborsClassifier(metric='cosine', n_neighbors=1)"
      ]
     },
     "execution_count": 118,
     "metadata": {},
     "output_type": "execute_result"
    }
   ],
   "source": [
    "#knn for k =1 , cosine\n",
    "model3 = KNeighborsClassifier(n_neighbors = 1,metric = 'cosine')   \n",
    "model3.fit(xtrain,ytrain)"
   ]
  },
  {
   "cell_type": "code",
   "execution_count": 119,
   "id": "65e64547",
   "metadata": {},
   "outputs": [
    {
     "name": "stderr",
     "output_type": "stream",
     "text": [
      "C:\\ProgramData\\Anaconda3\\lib\\site-packages\\sklearn\\neighbors\\_classification.py:228: FutureWarning: Unlike other reduction functions (e.g. `skew`, `kurtosis`), the default behavior of `mode` typically preserves the axis it acts along. In SciPy 1.11.0, this behavior will change: the default value of `keepdims` will become False, the `axis` over which the statistic is taken will be eliminated, and the value None will no longer be accepted. Set `keepdims` to True or False to avoid this warning.\n",
      "  mode, _ = stats.mode(_y[neigh_ind, k], axis=1)\n"
     ]
    }
   ],
   "source": [
    "ypred3c = model3.predict(xtest)"
   ]
  },
  {
   "cell_type": "code",
   "execution_count": 120,
   "id": "cc61e499",
   "metadata": {},
   "outputs": [
    {
     "data": {
      "text/plain": [
       "array([1, 1, 1, 0, 0, 1, 1, 0, 1, 0, 1, 0, 0, 1, 1, 0, 0, 1, 1, 0, 0, 1,\n",
       "       0, 1, 1, 1, 0, 1, 1, 1, 1, 0, 1, 0, 1, 0, 1, 0, 1, 1], dtype=int64)"
      ]
     },
     "execution_count": 120,
     "metadata": {},
     "output_type": "execute_result"
    }
   ],
   "source": [
    "ypred3c"
   ]
  },
  {
   "cell_type": "code",
   "execution_count": 121,
   "id": "c97cc8b0",
   "metadata": {},
   "outputs": [
    {
     "data": {
      "text/plain": [
       "array([0, 0, 1, 0, 1, 1, 1, 1, 0, 0, 0, 1, 1, 1, 1, 0, 0, 1, 1, 1, 1, 1,\n",
       "       0, 1, 1, 1, 0, 0, 1, 0, 0, 0, 1, 0, 1, 0, 1, 0, 1, 0], dtype=int64)"
      ]
     },
     "execution_count": 121,
     "metadata": {},
     "output_type": "execute_result"
    }
   ],
   "source": [
    "np.array(ytest)"
   ]
  },
  {
   "cell_type": "code",
   "execution_count": 122,
   "id": "21a45ee8",
   "metadata": {},
   "outputs": [
    {
     "name": "stdout",
     "output_type": "stream",
     "text": [
      "[[10  8]\n",
      " [ 6 16]]\n",
      "0.65\n"
     ]
    }
   ],
   "source": [
    "#performance analysis of k = 1, cosine\n",
    "print(confusion_matrix(ytest,ypred3c))\n",
    "print(accuracy_score(ytest,ypred3c))\n",
    "ack1c = accuracy_score(ytest,ypred3c)"
   ]
  },
  {
   "cell_type": "code",
   "execution_count": 123,
   "id": "fd686873",
   "metadata": {},
   "outputs": [
    {
     "data": {
      "text/html": [
       "<div>\n",
       "<style scoped>\n",
       "    .dataframe tbody tr th:only-of-type {\n",
       "        vertical-align: middle;\n",
       "    }\n",
       "\n",
       "    .dataframe tbody tr th {\n",
       "        vertical-align: top;\n",
       "    }\n",
       "\n",
       "    .dataframe thead th {\n",
       "        text-align: right;\n",
       "    }\n",
       "</style>\n",
       "<table border=\"1\" class=\"dataframe\">\n",
       "  <thead>\n",
       "    <tr style=\"text-align: right;\">\n",
       "      <th></th>\n",
       "      <th>k</th>\n",
       "      <th>metrics</th>\n",
       "      <th>accuracy_scores</th>\n",
       "    </tr>\n",
       "  </thead>\n",
       "  <tbody>\n",
       "    <tr>\n",
       "      <th>0</th>\n",
       "      <td>3</td>\n",
       "      <td>euclidean</td>\n",
       "      <td>0.675</td>\n",
       "    </tr>\n",
       "    <tr>\n",
       "      <th>1</th>\n",
       "      <td>3</td>\n",
       "      <td>manhattan</td>\n",
       "      <td>0.625</td>\n",
       "    </tr>\n",
       "    <tr>\n",
       "      <th>2</th>\n",
       "      <td>3</td>\n",
       "      <td>jaccard</td>\n",
       "      <td>0.650</td>\n",
       "    </tr>\n",
       "    <tr>\n",
       "      <th>3</th>\n",
       "      <td>3</td>\n",
       "      <td>cosine</td>\n",
       "      <td>0.625</td>\n",
       "    </tr>\n",
       "    <tr>\n",
       "      <th>4</th>\n",
       "      <td>2</td>\n",
       "      <td>euclidean</td>\n",
       "      <td>0.625</td>\n",
       "    </tr>\n",
       "    <tr>\n",
       "      <th>5</th>\n",
       "      <td>2</td>\n",
       "      <td>manhattan</td>\n",
       "      <td>0.600</td>\n",
       "    </tr>\n",
       "    <tr>\n",
       "      <th>6</th>\n",
       "      <td>2</td>\n",
       "      <td>jaccard</td>\n",
       "      <td>0.625</td>\n",
       "    </tr>\n",
       "    <tr>\n",
       "      <th>7</th>\n",
       "      <td>2</td>\n",
       "      <td>cosine</td>\n",
       "      <td>0.575</td>\n",
       "    </tr>\n",
       "    <tr>\n",
       "      <th>8</th>\n",
       "      <td>1</td>\n",
       "      <td>euclidean</td>\n",
       "      <td>0.675</td>\n",
       "    </tr>\n",
       "    <tr>\n",
       "      <th>9</th>\n",
       "      <td>1</td>\n",
       "      <td>manhattan</td>\n",
       "      <td>0.675</td>\n",
       "    </tr>\n",
       "    <tr>\n",
       "      <th>10</th>\n",
       "      <td>1</td>\n",
       "      <td>jaccard</td>\n",
       "      <td>0.625</td>\n",
       "    </tr>\n",
       "    <tr>\n",
       "      <th>11</th>\n",
       "      <td>1</td>\n",
       "      <td>cosine</td>\n",
       "      <td>0.650</td>\n",
       "    </tr>\n",
       "  </tbody>\n",
       "</table>\n",
       "</div>"
      ],
      "text/plain": [
       "    k    metrics  accuracy_scores\n",
       "0   3  euclidean            0.675\n",
       "1   3  manhattan            0.625\n",
       "2   3    jaccard            0.650\n",
       "3   3     cosine            0.625\n",
       "4   2  euclidean            0.625\n",
       "5   2  manhattan            0.600\n",
       "6   2    jaccard            0.625\n",
       "7   2     cosine            0.575\n",
       "8   1  euclidean            0.675\n",
       "9   1  manhattan            0.675\n",
       "10  1    jaccard            0.625\n",
       "11  1     cosine            0.650"
      ]
     },
     "execution_count": 123,
     "metadata": {},
     "output_type": "execute_result"
    }
   ],
   "source": [
    "#putting together the final output for all k and metrics \n",
    "final = { 'k' : [3,3,3,3,2,2,2,2,1,1,1,1],\n",
    "'metrics' : ['euclidean','manhattan','jaccard','cosine','euclidean','manhattan','jaccard','cosine','euclidean','manhattan','jaccard','cosine']\n",
    ",'accuracy_scores':[ack3e,ack3m,ack3j,ack3c,ack2e,ack2m,ack2j,ack2c,ack1e,ack1m,ack1j,ack1c]}\n",
    "\n",
    "pd.DataFrame(final)"
   ]
  },
  {
   "cell_type": "code",
   "execution_count": null,
   "id": "39a73900",
   "metadata": {},
   "outputs": [],
   "source": []
  },
  {
   "cell_type": "code",
   "execution_count": null,
   "id": "1db6bed5",
   "metadata": {},
   "outputs": [],
   "source": []
  }
 ],
 "metadata": {
  "kernelspec": {
   "display_name": "Python 3 (ipykernel)",
   "language": "python",
   "name": "python3"
  },
  "language_info": {
   "codemirror_mode": {
    "name": "ipython",
    "version": 3
   },
   "file_extension": ".py",
   "mimetype": "text/x-python",
   "name": "python",
   "nbconvert_exporter": "python",
   "pygments_lexer": "ipython3",
   "version": "3.9.13"
  }
 },
 "nbformat": 4,
 "nbformat_minor": 5
}
