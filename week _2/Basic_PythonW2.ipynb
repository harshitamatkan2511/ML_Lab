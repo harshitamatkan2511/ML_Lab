{
 "cells": [
  {
   "cell_type": "code",
   "execution_count": 6,
   "id": "73df7468",
   "metadata": {},
   "outputs": [
    {
     "name": "stdout",
     "output_type": "stream",
     "text": [
      "Hello\n"
     ]
    }
   ],
   "source": [
    "#User defined function syntax\n",
    "def fn1():\n",
    "    print(\"Hello\")\n",
    "    \n",
    "fn1()"
   ]
  },
  {
   "cell_type": "code",
   "execution_count": 8,
   "id": "912459ee",
   "metadata": {},
   "outputs": [
    {
     "name": "stdout",
     "output_type": "stream",
     "text": [
      "100\n"
     ]
    }
   ],
   "source": [
    "#parameterized function\n",
    "def fn2(x):\n",
    "    print(x*10)\n",
    "x= 10    \n",
    "fn2(x)"
   ]
  },
  {
   "cell_type": "code",
   "execution_count": 11,
   "id": "fde9bd56",
   "metadata": {},
   "outputs": [
    {
     "name": "stdout",
     "output_type": "stream",
     "text": [
      "Enter x :10\n",
      "Enter y:4\n",
      "1) addition\n",
      "2) subtraction\n",
      "3) multiplication\n",
      "4) Division\n",
      "5) Exit\n",
      "Enter operation\n",
      "1\n",
      "14\n",
      "1) addition\n",
      "2) subtraction\n",
      "3) multiplication\n",
      "4) Division\n",
      "5) Exit\n",
      "Enter operation\n",
      "5\n"
     ]
    }
   ],
   "source": [
    "#program to do arithmetic operations\n",
    "\n",
    "def add(x,y):\n",
    "    print(x+y)\n",
    "    \n",
    "def subtract(x,y):\n",
    "    print(x-y)\n",
    "\n",
    "def multiply(x,y):\n",
    "    print(x*y)\n",
    "    \n",
    "def divide(x,y):\n",
    "    print(x/y)\n",
    "    \n",
    "x = int(input(\"Enter x :\"))\n",
    "y = int(input(\"Enter y:\"))\n",
    "while(True):\n",
    "    print(\"1) addition\")\n",
    "    print(\"2) subtraction\")\n",
    "    print(\"3) multiplication\")\n",
    "    print(\"4) Division\")\n",
    "    print(\"5) Exit\")\n",
    "    print(\"Enter operation\")\n",
    "    ch = int(input())\n",
    "    if(ch == 1):\n",
    "        add(x,y)\n",
    "    elif(ch == 2):\n",
    "        subtract(x,y)\n",
    "    elif(ch == 3):\n",
    "        multiply(x,y)\n",
    "    elif(ch == 4):\n",
    "        divide(x,y)\n",
    "    elif(ch == 5):\n",
    "        break;\n",
    "    else:\n",
    "        print(\"Enter a valid operation\")"
   ]
  },
  {
   "cell_type": "code",
   "execution_count": 26,
   "id": "5e04a9de",
   "metadata": {},
   "outputs": [
    {
     "name": "stdout",
     "output_type": "stream",
     "text": [
      "[41, 47, 30, 58, 77, 54, 26, 59, 77, 68]\n",
      "[86, 97, 65, 65, 93, 54, 87, 69, 63, 51]\n",
      "min: 26\n",
      "Q1 41\n",
      "Q2 58\n",
      "Q3 68\n",
      "max: 77\n",
      "min: 51\n",
      "Q1 63\n",
      "Q2 69\n",
      "Q3 87\n",
      "max: 97\n"
     ]
    }
   ],
   "source": [
    "#working on list using functions \n",
    "#function for 5 number summary of a list\n",
    "def summary5(x):\n",
    "    x.sort()\n",
    "    mini = x[0]\n",
    "    maxi = x[-1]\n",
    "    Q1 = x[int((len(x)+1)/4)]\n",
    "    Q2 = x[int((len(x)+1)/2)]\n",
    "    Q3 = x[int(((3*len(x)+1))/4)]\n",
    "    \n",
    "    print(\"min:\", mini)\n",
    "    print(\"Q1\" ,Q1)\n",
    "    print(\"Q2\",Q2)\n",
    "    print(\"Q3\",Q3)\n",
    "    print(\"max:\",maxi)\n",
    "\n",
    "import statistics as st\n",
    "import random as rd\n",
    "l1 =[]\n",
    "l2 =[]\n",
    "for i in range (10):\n",
    "    x = rd.randint(20,80)\n",
    "    l1.append(x)\n",
    "    y = rd.randint(50,100)\n",
    "    l2.append(y)\n",
    "\n",
    "print(l1)    \n",
    "print(l2)\n",
    "\n",
    "summary5(l1)\n",
    "summary5(l2)\n",
    "    "
   ]
  },
  {
   "cell_type": "code",
   "execution_count": 28,
   "id": "c3201557",
   "metadata": {},
   "outputs": [],
   "source": [
    "#writing csv files using lists\n",
    "import csv \n",
    "\n",
    "#field names\n",
    "fields = ['Name','Branch','Year','CGPA']\n",
    "\n",
    "#field values\n",
    "rows = [['Nikhil','COE','2','9.0'],\n",
    "        ['Sanchit','COE','2','9.1'],\n",
    "        ['Aditya','IT','2','9.3'],\n",
    "        ['Sagar','SE','1','9.5'],\n",
    "        ['Prateek','MCE','3','7.8'],\n",
    "        ['Sahil','EP','2','9.1']]\n",
    "\n",
    "\n",
    "#name of the csv file\n",
    "filename = \"D:\\\\Uni_records.csv\"\n",
    "\n",
    "#writing to the csv file:\n",
    "with open(filename,'w') as csvfile:\n",
    "    \n",
    "    #creating a csv writer object\n",
    "    csvwriter = csv.writer(csvfile)\n",
    "    \n",
    "    #writing the fields\n",
    "    csvwriter.writerow(fields)\n",
    "    \n",
    "    #writing the data rows \n",
    "    csvwriter.writerows(rows)\n",
    "    "
   ]
  },
  {
   "cell_type": "code",
   "execution_count": 31,
   "id": "3c47de83",
   "metadata": {},
   "outputs": [],
   "source": [
    "# data rows as dictionary objects\n",
    "\n",
    "dict = [{'branch' : 'COE' ,'Name' : 'Nikhil' , 'Year' : '2' , 'cgpa' : 9.0},\n",
    "       {'branch' : 'COE' ,'Name' : 'Nikhil' , 'Year' : '2' , 'cgpa' : 9.0},\n",
    "       {'branch' : 'COE' ,'Name' : 'Nikhil' , 'Year' : '2' , 'cgpa' : 9.0},\n",
    "       {'branch' : 'COE' ,'Name' : 'Nikhil' , 'Year' : '2' , 'cgpa' : 9.0}]\n",
    "\n",
    "fields = ['Name','branch','Year','cgpa']\n",
    "\n",
    "filename = \"D:\\\\Uni_records2.csv\"\n",
    "\n",
    "with open(filename,'w') as csvfile:\n",
    "    writer = csv.DictWriter(csvfile,fieldnames = fields)\n",
    "    writer.writeheader()\n",
    "    writer.writerows(dict)"
   ]
  },
  {
   "cell_type": "code",
   "execution_count": 32,
   "id": "eb16b26d",
   "metadata": {},
   "outputs": [
    {
     "name": "stdout",
     "output_type": "stream",
     "text": [
      "['Name', 'Branch', 'Year', 'CGPA']\n",
      "[]\n",
      "['Nikhil', 'COE', '2', '9.0']\n",
      "[]\n",
      "['Sanchit', 'COE', '2', '9.1']\n",
      "[]\n",
      "['Aditya', 'IT', '2', '9.3']\n",
      "[]\n",
      "['Sagar', 'SE', '1', '9.5']\n",
      "[]\n",
      "['Prateek', 'MCE', '3', '7.8']\n",
      "[]\n",
      "['Sahil', 'EP', '2', '9.1']\n",
      "[]\n"
     ]
    }
   ],
   "source": [
    "#reading csv file\n",
    "from csv import reader\n",
    "\n",
    "#file name\n",
    "fn = \"D:\\\\Uni_records.csv\"\n",
    "with open(fn,'r') as read_obj:\n",
    "    \n",
    "    csv_reader = reader(read_obj)\n",
    "    \n",
    "    #iterate over each row in the csv file using the reader object\n",
    "    for row in csv_reader:\n",
    "        print (row)"
   ]
  },
  {
   "cell_type": "code",
   "execution_count": null,
   "id": "e98b5513",
   "metadata": {},
   "outputs": [],
   "source": []
  }
 ],
 "metadata": {
  "kernelspec": {
   "display_name": "Python 3 (ipykernel)",
   "language": "python",
   "name": "python3"
  },
  "language_info": {
   "codemirror_mode": {
    "name": "ipython",
    "version": 3
   },
   "file_extension": ".py",
   "mimetype": "text/x-python",
   "name": "python",
   "nbconvert_exporter": "python",
   "pygments_lexer": "ipython3",
   "version": "3.9.13"
  }
 },
 "nbformat": 4,
 "nbformat_minor": 5
}
