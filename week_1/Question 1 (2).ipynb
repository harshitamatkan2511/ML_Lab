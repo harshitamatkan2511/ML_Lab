{
 "cells": [
  {
   "cell_type": "code",
   "execution_count": 1,
   "id": "6e9d7e24",
   "metadata": {},
   "outputs": [],
   "source": [
    "import random\n",
    "import statistics as stats\n",
    "from array import *\n",
    "import numpy as np"
   ]
  },
  {
   "cell_type": "code",
   "execution_count": 2,
   "id": "473fd68a",
   "metadata": {},
   "outputs": [
    {
     "name": "stdout",
     "output_type": "stream",
     "text": [
      "Welcome to pyhton\n"
     ]
    }
   ],
   "source": [
    "print(\"Welcome to pyhton\")"
   ]
  },
  {
   "cell_type": "code",
   "execution_count": 3,
   "id": "ea99ee26",
   "metadata": {},
   "outputs": [
    {
     "name": "stdout",
     "output_type": "stream",
     "text": [
      "93\n"
     ]
    }
   ],
   "source": [
    "a=9\n",
    "b=84\n",
    "sum=a+b\n",
    "print(sum)"
   ]
  },
  {
   "cell_type": "code",
   "execution_count": 4,
   "id": "83137eab",
   "metadata": {},
   "outputs": [
    {
     "name": "stdout",
     "output_type": "stream",
     "text": [
      "<class 'int'>\n",
      "<class 'str'>\n"
     ]
    }
   ],
   "source": [
    "x=5\n",
    "y=\"Helloooo\"\n",
    "z=type(y)\n",
    "print(type(x))\n",
    "print(z)"
   ]
  },
  {
   "cell_type": "code",
   "execution_count": 5,
   "id": "9fd17df2",
   "metadata": {},
   "outputs": [
    {
     "name": "stdout",
     "output_type": "stream",
     "text": [
      "84 greater than 9\n"
     ]
    }
   ],
   "source": [
    "if (a>b):\n",
    "    print(str(a)+\" is greater than\"+ str(b))\n",
    "else :\n",
    "    print(str(b)+ \" greater than \"+ str(a))"
   ]
  },
  {
   "cell_type": "code",
   "execution_count": 6,
   "id": "7179c0eb",
   "metadata": {},
   "outputs": [
    {
     "name": "stdout",
     "output_type": "stream",
     "text": [
      "['Apple', 'cherry', 'banana', 'Mango']\n",
      "<class 'list'>\n"
     ]
    }
   ],
   "source": [
    "this=[\"Apple\",\"cherry\",\"banana\",\"Mango\"]\n",
    "print(this)\n",
    "print(type(this))"
   ]
  },
  {
   "cell_type": "code",
   "execution_count": 7,
   "id": "0f598775",
   "metadata": {},
   "outputs": [
    {
     "data": {
      "text/plain": [
       "'banana'"
      ]
     },
     "execution_count": 7,
     "metadata": {},
     "output_type": "execute_result"
    }
   ],
   "source": [
    "this[2]"
   ]
  },
  {
   "cell_type": "code",
   "execution_count": 8,
   "id": "c0dd4b07",
   "metadata": {},
   "outputs": [
    {
     "data": {
      "text/plain": [
       "['Apple', 'cherry']"
      ]
     },
     "execution_count": 8,
     "metadata": {},
     "output_type": "execute_result"
    }
   ],
   "source": [
    "this[0:2]"
   ]
  },
  {
   "cell_type": "code",
   "execution_count": 9,
   "id": "ceb0276a",
   "metadata": {},
   "outputs": [
    {
     "data": {
      "text/plain": [
       "'Apple'"
      ]
     },
     "execution_count": 9,
     "metadata": {},
     "output_type": "execute_result"
    }
   ],
   "source": [
    "this[-0]"
   ]
  },
  {
   "cell_type": "code",
   "execution_count": 10,
   "id": "4891cc6d",
   "metadata": {},
   "outputs": [
    {
     "name": "stdout",
     "output_type": "stream",
     "text": [
      "Enter a positive integer 23\n",
      "276.0\n"
     ]
    }
   ],
   "source": [
    "x=int(input(\"Enter a positive integer \"  ))\n",
    "sum =x*(x+1)/2\n",
    "print(sum)"
   ]
  },
  {
   "cell_type": "code",
   "execution_count": 11,
   "id": "d0e10954",
   "metadata": {},
   "outputs": [
    {
     "name": "stdout",
     "output_type": "stream",
     "text": [
      "Enter feet34\n",
      "Enter inches34\n",
      "1122.68\n"
     ]
    }
   ],
   "source": [
    "feet=float(input(\"Enter feet\"))\n",
    "inch=float(input(\"Enter inches\"))\n",
    "height= (feet*12+inch)*2.54\n",
    "print(height)"
   ]
  },
  {
   "cell_type": "code",
   "execution_count": 12,
   "id": "2c159c64",
   "metadata": {},
   "outputs": [
    {
     "name": "stdout",
     "output_type": "stream",
     "text": [
      "Enter human years: 32\n",
      "Dog Years:  141.0\n"
     ]
    }
   ],
   "source": [
    "years=float(input(\"Enter human years: \"))\n",
    "dog=0\n",
    "if(years<0):\n",
    "    print(\"invalid input\")\n",
    "elif(years<=2):\n",
    "    dog=years*10.5\n",
    "else:\n",
    "    dog=(21+(years-2)*4)\n",
    "print(\"Dog Years: \",dog )"
   ]
  },
  {
   "cell_type": "code",
   "execution_count": 13,
   "id": "382fd4cc",
   "metadata": {},
   "outputs": [
    {
     "name": "stdout",
     "output_type": "stream",
     "text": [
      "Enter the name of the month June\n",
      "31 days\n"
     ]
    }
   ],
   "source": [
    "month=str(input(\"Enter the name of the month \"))\n",
    "if(month==\"Jan\" or \"Mar\" or \"May\" or \"July\" or \"Aug\" or \"Oct\" or \"Dec\"):\n",
    "    print(\"31 days\")\n",
    "elif(month==\"Apr\" or \"June\" or \"Sept\" or \"Nov\"):\n",
    "    print(\"30 days\")\n",
    "elif(month==\"Feb\"):\n",
    "    print(\"28 or 29 days\")\n",
    "else:\n",
    "    print(\"Invalid month\")\n",
    "    \n",
    "\n",
    "\n",
    "         "
   ]
  },
  {
   "cell_type": "code",
   "execution_count": 14,
   "id": "17ba4136",
   "metadata": {},
   "outputs": [
    {
     "name": "stdout",
     "output_type": "stream",
     "text": [
      "402\n"
     ]
    }
   ],
   "source": [
    "i=random.randint(20,1000)\n",
    "print(i)"
   ]
  },
  {
   "cell_type": "code",
   "execution_count": 15,
   "id": "ab3d695d",
   "metadata": {},
   "outputs": [
    {
     "name": "stdout",
     "output_type": "stream",
     "text": [
      "Heelooooo\n",
      "H\n",
      "el\n",
      "elooooo\n",
      "HeeloooooHeelooooo\n",
      "HeeloooooWorld\n"
     ]
    }
   ],
   "source": [
    "sr=\"Heelooooo\"\n",
    "print (sr)\n",
    "print(sr[0])\n",
    "print(sr[2:4])\n",
    "print(sr[2:])\n",
    "print(sr*2)\n",
    "print(sr+\"World\")\n"
   ]
  },
  {
   "cell_type": "code",
   "execution_count": 16,
   "id": "22a6dd08",
   "metadata": {},
   "outputs": [
    {
     "name": "stdout",
     "output_type": "stream",
     "text": [
      "5 cm \n"
     ]
    }
   ],
   "source": [
    "x= 5\n",
    "y=\" cm \"\n",
    "print(str(x)+y)"
   ]
  },
  {
   "cell_type": "code",
   "execution_count": 17,
   "id": "6732296d",
   "metadata": {},
   "outputs": [
    {
     "name": "stdout",
     "output_type": "stream",
     "text": [
      "[123, 'john', 123, 'john']\n",
      "['abcd', 786, 2.23, 'john', 70.2, 123, 'john']\n"
     ]
    }
   ],
   "source": [
    "list= [\"abcd\",786,2.23,'john',70.2]\n",
    "tinylist=[123,'john']\n",
    "print (tinylist*2)\n",
    "print(list+tinylist)"
   ]
  },
  {
   "cell_type": "code",
   "execution_count": 18,
   "id": "ea6287c0",
   "metadata": {},
   "outputs": [
    {
     "name": "stdout",
     "output_type": "stream",
     "text": [
      "2\n",
      "45\n",
      "5645\n",
      "563\n"
     ]
    }
   ],
   "source": [
    "l=[2,45,5645,563]\n",
    "for i in l:\n",
    "    print(i)"
   ]
  },
  {
   "cell_type": "code",
   "execution_count": 19,
   "id": "5ec4d87f",
   "metadata": {},
   "outputs": [
    {
     "name": "stdout",
     "output_type": "stream",
     "text": [
      "3\n",
      "4\n",
      "5\n",
      "6\n",
      "7\n",
      "8\n",
      "9\n"
     ]
    }
   ],
   "source": [
    "for x in range(3,10):\n",
    "    print(x)"
   ]
  },
  {
   "cell_type": "code",
   "execution_count": 20,
   "id": "f8b507c4",
   "metadata": {},
   "outputs": [
    {
     "name": "stdout",
     "output_type": "stream",
     "text": [
      "255\n",
      "139\n",
      "8\n",
      "58\n",
      "263\n",
      "166\n",
      "162\n",
      "22\n",
      "188\n",
      "132\n"
     ]
    }
   ],
   "source": [
    "\n",
    "for x in range(0,10):\n",
    "    i=random.randint(5,303)\n",
    "    print(i)"
   ]
  },
  {
   "cell_type": "code",
   "execution_count": 21,
   "id": "d9f24181",
   "metadata": {},
   "outputs": [
    {
     "name": "stdout",
     "output_type": "stream",
     "text": [
      "91\n",
      "96\n",
      "189\n",
      "104\n",
      "212\n",
      "294\n",
      "68\n",
      "201\n",
      "163\n",
      "34\n",
      "The sum is  1452\n",
      "The mean is  145.2\n"
     ]
    }
   ],
   "source": [
    "sum=0\n",
    "for x in range(0,10):\n",
    "    i=random.randint(5,303)\n",
    "    sum+=i\n",
    "    print(i)\n",
    "print(\"The sum is \", sum)   \n",
    "a = sum/10\n",
    "print(\"The mean is \",a)"
   ]
  },
  {
   "cell_type": "code",
   "execution_count": 22,
   "id": "a4b7356e",
   "metadata": {},
   "outputs": [
    {
     "name": "stdout",
     "output_type": "stream",
     "text": [
      "[6, 11, 20, 23, 24, 28, 29, 30, 30, 46, 47]\n",
      "28\n"
     ]
    }
   ],
   "source": [
    "z=[]\n",
    "for x in range(0,11):\n",
    "    l=random.randint(6,48)\n",
    "    z.append(l)  \n",
    "z.sort()\n",
    "print(z)\n",
    "median=z[int(len(z)/2)]\n",
    "print(median)"
   ]
  },
  {
   "cell_type": "code",
   "execution_count": 23,
   "id": "780cd4f3",
   "metadata": {},
   "outputs": [
    {
     "name": "stdout",
     "output_type": "stream",
     "text": [
      "[26, 186, 234, 105, 45, 78, 23, 157, 77, 149]\n",
      "108\n",
      "91.5\n",
      "26\n"
     ]
    }
   ],
   "source": [
    "z=[]\n",
    "for x in range(0,10):\n",
    "    i=random.randint(5,303)\n",
    "    z.append(i)\n",
    "print(z)    \n",
    "mean=stats.mean(z)\n",
    "print(mean)\n",
    "print(stats.median(z))\n",
    "print(stats.mode(z))"
   ]
  },
  {
   "cell_type": "code",
   "execution_count": 24,
   "id": "24ed289c",
   "metadata": {},
   "outputs": [
    {
     "name": "stdout",
     "output_type": "stream",
     "text": [
      "54.9\n",
      "35.73052077660697\n",
      "45.937943390304575\n",
      "62.0\n",
      "65\n",
      "59\n",
      "64.5\n",
      "[11, 24, 27, 36, 59, 65, 66, 73, 91, 97]\n",
      "11\n",
      "27\n",
      "65\n",
      "73\n",
      "97\n"
     ]
    }
   ],
   "source": [
    "rl= random.sample(range(0,100),10)\n",
    "print(stats.mean(rl))\n",
    "print(stats.harmonic_mean(rl))\n",
    "print(stats.geometric_mean(rl))\n",
    "print(stats.median(rl))\n",
    "print(stats.median_high(rl))\n",
    "print(stats.median_low(rl))\n",
    "print(stats.median_grouped(rl))\n",
    "\n",
    "#5 number summary\n",
    "rl.sort()\n",
    "print(rl)\n",
    "print(rl[0])\n",
    "print(rl[int((len(rl)+1)/4)])\n",
    "print(rl[int((len(rl)+1)/2)])\n",
    "print(rl[int((3*len(rl)+1)/4)])\n",
    "print(rl[-1])"
   ]
  },
  {
   "cell_type": "code",
   "execution_count": 25,
   "id": "1269a5bf",
   "metadata": {},
   "outputs": [
    {
     "name": "stdout",
     "output_type": "stream",
     "text": [
      "Enter the position: a2\n",
      "White\n"
     ]
    }
   ],
   "source": [
    "c=input(\"Enter the position: \")\n",
    "if (int(ord(c[0]))+int(c[1]))%2==0:\n",
    "    print(\"Black\")\n",
    "else:\n",
    "    print(\"White\")"
   ]
  },
  {
   "cell_type": "code",
   "execution_count": 26,
   "id": "406ce555",
   "metadata": {},
   "outputs": [
    {
     "name": "stdout",
     "output_type": "stream",
     "text": [
      "Enter a word: madam\n",
      "The word is a palindrome\n"
     ]
    }
   ],
   "source": [
    "#Palindrome checking \n",
    "def is_palindrome(word):\n",
    "    # Reversing the word\n",
    "    rev_word = word[::-1]\n",
    "    \n",
    "    # Checking if the reversed word is equal to the original word\n",
    "    if rev_word == word:\n",
    "        return \"palindrome\"\n",
    "    else:\n",
    "        return \"non-palindrome\"\n",
    "\n",
    "# Getting the word from the user\n",
    "word = input(\"Enter a word: \")\n",
    "\n",
    "# Checking if the word is a palindrome\n",
    "result = is_palindrome(word)\n",
    "\n",
    "# Displaying the result\n",
    "print(\"The word is a \" + result)\n"
   ]
  },
  {
   "cell_type": "code",
   "execution_count": 27,
   "id": "944a5e8a",
   "metadata": {},
   "outputs": [
    {
     "name": "stdout",
     "output_type": "stream",
     "text": [
      "enter the size of the list :10\n",
      "1\n",
      "2\n",
      "3\n",
      "4\n",
      "5\n",
      "6\n",
      "7\n",
      "8\n",
      "9\n",
      "0\n",
      "[2, 3, 4, 5, 6, 7]\n"
     ]
    }
   ],
   "source": [
    "# Question 7:\n",
    "def remove_outliers():\n",
    "    n=[]\n",
    "    p = int(input(\"enter the size of the list :\"))\n",
    "    \n",
    "    for i in range(p):\n",
    "        n.append(int(input()))\n",
    "    \n",
    "    n.sort()\n",
    "    n = n[2:-2]\n",
    "    \n",
    "    print(n)\n",
    "    \n",
    "remove_outliers()"
   ]
  },
  {
   "cell_type": "code",
   "execution_count": 33,
   "id": "7052dff3",
   "metadata": {},
   "outputs": [
    {
     "name": "stdout",
     "output_type": "stream",
     "text": [
      "1\n",
      "2\n",
      "3\n",
      "4\n",
      "5\n",
      "5\n",
      "6\n",
      "7\n",
      "8\n",
      "9\n",
      "1-ascending,2-descending2\n",
      "[9, 8, 7, 6, 5, 5, 4, 3, 2, 1]\n",
      "min: 1\n",
      "max : 9\n",
      "median : 5\n",
      "mode : 5\n"
     ]
    }
   ],
   "source": [
    "#Question 8:\n",
    "import statistics as st\n",
    "import numpy as np\n",
    "l1 =[]\n",
    "for i in range(10):\n",
    "    l1.append(int(input()))\n",
    "    \n",
    "n = int(input(\"1-ascending,2-descending\"))\n",
    "if n ==1 :\n",
    "    l1.sort()\n",
    "else :\n",
    "    l1.sort(reverse = True)\n",
    "    \n",
    "print(l1)\n",
    "l1.sort()\n",
    "print(\"min:\" ,l1[0])\n",
    "print(\"max :\", l1[-1])\n",
    "print(\"median :\",l1[int((len(l1)+1)/2)])\n",
    "m = np.array(l1)\n",
    "print(\"mode :\",st.mode(l1))\n"
   ]
  },
  {
   "cell_type": "markdown",
   "id": "f869a7e3",
   "metadata": {},
   "source": []
  }
 ],
 "metadata": {
  "kernelspec": {
   "display_name": "Python 3 (ipykernel)",
   "language": "python",
   "name": "python3"
  },
  "language_info": {
   "codemirror_mode": {
    "name": "ipython",
    "version": 3
   },
   "file_extension": ".py",
   "mimetype": "text/x-python",
   "name": "python",
   "nbconvert_exporter": "python",
   "pygments_lexer": "ipython3",
   "version": "3.9.13"
  },
  "vscode": {
   "interpreter": {
    "hash": "92b547b4b428ff414d5b5e32ee9a1d8548487961985f6c3c19cc6615429bd3bd"
   }
  }
 },
 "nbformat": 4,
 "nbformat_minor": 5
}
