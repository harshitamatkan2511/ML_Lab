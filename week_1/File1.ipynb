{
 "cells": [
  {
   "cell_type": "code",
   "execution_count": 1,
   "id": "3d319265",
   "metadata": {},
   "outputs": [
    {
     "name": "stdout",
     "output_type": "stream",
     "text": [
      "Welcome to python\n"
     ]
    }
   ],
   "source": [
    "#hello world\n",
    "print(\"Welcome to python\")"
   ]
  },
  {
   "cell_type": "code",
   "execution_count": 3,
   "id": "ceb0f95f",
   "metadata": {},
   "outputs": [
    {
     "name": "stdout",
     "output_type": "stream",
     "text": [
      "20\n"
     ]
    }
   ],
   "source": [
    "#mathematical operations \n",
    "x= 10\n",
    "y = 10 \n",
    "a= x+y\n",
    "print(a)"
   ]
  },
  {
   "cell_type": "code",
   "execution_count": 5,
   "id": "1d1b05b3",
   "metadata": {},
   "outputs": [
    {
     "name": "stdout",
     "output_type": "stream",
     "text": [
      "<class 'int'>\n",
      "<class 'str'>\n"
     ]
    }
   ],
   "source": [
    "#typeof function\n",
    "z= \"hello world\"\n",
    "print(type(x))\n",
    "print(type(z))"
   ]
  },
  {
   "cell_type": "code",
   "execution_count": 6,
   "id": "20a00362",
   "metadata": {},
   "outputs": [
    {
     "name": "stdout",
     "output_type": "stream",
     "text": [
      "l is greater than 5\n"
     ]
    }
   ],
   "source": [
    "#decision making,conditional statements\n",
    "l = 6\n",
    "if(l>5):\n",
    "    print(\"l is greater than 5\")\n",
    "else:\n",
    "    print(\"l is less than 5\")"
   ]
  },
  {
   "cell_type": "code",
   "execution_count": 14,
   "id": "ce5bd62d",
   "metadata": {},
   "outputs": [
    {
     "name": "stdout",
     "output_type": "stream",
     "text": [
      "['apple', 'banana', 'cherry']\n",
      "['apple']\n"
     ]
    }
   ],
   "source": [
    "#List creating and printing \n",
    "list1 = [\"apple\",\"banana\",\"cherry\"]\n",
    "print(list1)\n",
    "print(list1[0:1])"
   ]
  },
  {
   "cell_type": "code",
   "execution_count": 8,
   "id": "79f2aa1a",
   "metadata": {},
   "outputs": [
    {
     "data": {
      "text/plain": [
       "list"
      ]
     },
     "execution_count": 8,
     "metadata": {},
     "output_type": "execute_result"
    }
   ],
   "source": [
    "#type of list\n",
    "type(list1)"
   ]
  },
  {
   "cell_type": "code",
   "execution_count": 9,
   "id": "32373d24",
   "metadata": {},
   "outputs": [
    {
     "name": "stdout",
     "output_type": "stream",
     "text": [
      "(1, 2, 3)\n"
     ]
    },
    {
     "data": {
      "text/plain": [
       "tuple"
      ]
     },
     "execution_count": 9,
     "metadata": {},
     "output_type": "execute_result"
    }
   ],
   "source": [
    "#tuple\n",
    "tuple1 = (1,2,3)\n",
    "print(tuple1)\n",
    "type(tuple1)"
   ]
  },
  {
   "cell_type": "code",
   "execution_count": 23,
   "id": "97d1bd57",
   "metadata": {},
   "outputs": [
    {
     "name": "stdout",
     "output_type": "stream",
     "text": [
      "Enter n10\n",
      "The sum of n natural numbers is : 55.0\n"
     ]
    }
   ],
   "source": [
    "#Week 1 Question 1\n",
    "n = int(input(\"Enter n\"))\n",
    "sum = n*(n+1)/2\n",
    "print(\"The sum of n natural numbers is :\", sum)"
   ]
  },
  {
   "cell_type": "code",
   "execution_count": 25,
   "id": "89c9daee",
   "metadata": {},
   "outputs": [
    {
     "name": "stdout",
     "output_type": "stream",
     "text": [
      "Enter the number of feet :1\n",
      "Enter the number of inches:1\n",
      "total centimeters: 33.02\n"
     ]
    }
   ],
   "source": [
    "#week 1 question 2\n",
    "foot = float(input(\"Enter the number of foot :\"))\n",
    "inches = float(input(\"Enter the number of inches:\"))\n",
    "totalinches = (foot*12)+ inches\n",
    "totalcen = totalinches*2.54\n",
    "print(\"total centimeters:\",totalcen)"
   ]
  },
  {
   "cell_type": "code",
   "execution_count": 30,
   "id": "5d028f58",
   "metadata": {},
   "outputs": [
    {
     "name": "stdout",
     "output_type": "stream",
     "text": [
      "Enter human year: 2\n",
      "21\n"
     ]
    }
   ],
   "source": [
    "#week 1 Question 3\n",
    "hy = int(input(\"Enter human year: \"))\n",
    "if(hy>=2):\n",
    "    dy = 21 + ((hy-2)*4)\n",
    "elif(hy<2):\n",
    "    dy = hy*10.5\n",
    "print(dy)"
   ]
  },
  {
   "cell_type": "code",
   "execution_count": 35,
   "id": "a3b85821",
   "metadata": {},
   "outputs": [
    {
     "name": "stdout",
     "output_type": "stream",
     "text": [
      "Enter the month:february\n",
      "is it a leap year, y = yes, n= non\n",
      "28 days\n"
     ]
    }
   ],
   "source": [
    "#week1 question 4\n",
    "month = input(\"Enter the month:\")\n",
    "days30 =['april','june','september','november']\n",
    "days31 =['january','march','may','july','august','october','december']\n",
    "if(month in days30):\n",
    "    print(\"30 days\")\n",
    "elif(month in days31):\n",
    "    print(\"31 days\")\n",
    "elif(month =='february'):\n",
    "    y = input(\"is it a leap year, y = yes, n= no\")\n",
    "    if(y =='y'):\n",
    "        print(\"29 days\")\n",
    "    else:\n",
    "        print(\"28 days\")\n",
    "    "
   ]
  },
  {
   "cell_type": "code",
   "execution_count": 1,
   "id": "a8108db0",
   "metadata": {},
   "outputs": [
    {
     "name": "stdout",
     "output_type": "stream",
     "text": [
      "Enter the month:january\n",
      "31 days\n"
     ]
    }
   ],
   "source": [
    "#week1 question 4 type 2\n",
    "month = input(\"Enter the month:\")\n",
    "if(month == 'january' or month=='march' or month == 'may' or month=='july' or month == 'august' or month == 'october' or month =='december'):\n",
    "    print(\"31 days\")\n",
    "elif(month=='april' or month == 'june' or month == 'september' or month == 'november'):\n",
    "    print('30 days')\n",
    "elif(month == 'february'):\n",
    "    y = input(\"is it a leap year? y-yes,n-no\")\n",
    "    if(y=='y'):\n",
    "        print(\"29 days\")\n",
    "    else:\n",
    "        print(\"28 days\")"
   ]
  },
  {
   "cell_type": "code",
   "execution_count": null,
   "id": "225e007a",
   "metadata": {},
   "outputs": [],
   "source": []
  }
 ],
 "metadata": {
  "kernelspec": {
   "display_name": "Python 3 (ipykernel)",
   "language": "python",
   "name": "python3"
  },
  "language_info": {
   "codemirror_mode": {
    "name": "ipython",
    "version": 3
   },
   "file_extension": ".py",
   "mimetype": "text/x-python",
   "name": "python",
   "nbconvert_exporter": "python",
   "pygments_lexer": "ipython3",
   "version": "3.9.13"
  }
 },
 "nbformat": 4,
 "nbformat_minor": 5
}
